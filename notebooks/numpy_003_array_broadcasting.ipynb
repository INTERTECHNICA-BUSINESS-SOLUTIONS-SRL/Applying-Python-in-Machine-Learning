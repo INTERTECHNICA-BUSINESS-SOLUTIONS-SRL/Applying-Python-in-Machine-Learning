{
 "cells": [
  {
   "cell_type": "markdown",
   "metadata": {},
   "source": [
    "![*INTERTECHNICA - SOLON EDUCATIONAL PROGRAMS - TECHNOLOGY LINE*](https://solon.intertechnica.com/assets/IntertechnicaSolonEducationalPrograms-TechnologyLine.png)"
   ]
  },
  {
   "cell_type": "markdown",
   "metadata": {},
   "source": [
    "# Python for Data Processing - Array Broadcasting"
   ]
  },
  {
   "cell_type": "markdown",
   "metadata": {},
   "source": [
    "*Numpy facilitates operations between arrays of different shapes. This mechanism is called array broadcasting*."
   ]
  },
  {
   "cell_type": "markdown",
   "metadata": {},
   "source": [
    "By default arithmetic operations (such as addition or subtraction) **are meaningful only for arrays of the same or compatible dimensions**. Numpy allows such operations for some arrays which have different and incompatible dimensions by using the broadcasting mechanism.  "
   ]
  },
  {
   "cell_type": "markdown",
   "metadata": {},
   "source": [
    "The rules of broadcasting are explained in the original documentation as follows:\n",
    "\n",
    "> When operating on two arrays, NumPy compares their shapes element-wise. It starts with the trailing dimensions, and works its way forward. Two dimensions are compatible when\n",
    ">\n",
    "> * they are equal \n",
    "> or\n",
    "> * one of them is 1\n",
    "\n"
   ]
  },
  {
   "cell_type": "markdown",
   "metadata": {},
   "source": [
    "Initializing environment for machine learning use:"
   ]
  },
  {
   "cell_type": "code",
   "execution_count": 1,
   "metadata": {},
   "outputs": [
    {
     "name": "stdout",
     "output_type": "stream",
     "text": [
      "Requirement already satisfied: numpy in /home/marin/anaconda3/lib/python3.7/site-packages (1.16.2)\r\n"
     ]
    }
   ],
   "source": [
    "!python -m pip install numpy"
   ]
  },
  {
   "cell_type": "markdown",
   "metadata": {},
   "source": [
    "## 1. Broadcasting with scalars"
   ]
  },
  {
   "cell_type": "markdown",
   "metadata": {},
   "source": [
    "The broadcast mechanism will broadcast a scalar to the shape of the target array and will perform the operation."
   ]
  },
  {
   "cell_type": "code",
   "execution_count": 2,
   "metadata": {},
   "outputs": [],
   "source": [
    "import numpy as np"
   ]
  },
  {
   "cell_type": "code",
   "execution_count": 3,
   "metadata": {},
   "outputs": [
    {
     "name": "stdout",
     "output_type": "stream",
     "text": [
      "[ 2  4  6  8 10 12 14 16 18 20]\n"
     ]
    }
   ],
   "source": [
    "x_1d = np.array([ 1,   2,   3,   4,   5,   6,   7,   8,   9,  10])\n",
    "scalar1 = 2\n",
    "\n",
    "x_1d_multiplied = x_1d * scalar1\n",
    "\n",
    "print(x_1d_multiplied)"
   ]
  },
  {
   "cell_type": "markdown",
   "metadata": {},
   "source": [
    "In the example above the scalar with the value 2 was broadcasted to the array [2, 2, 2, 2, 2, 2, 2, 2, 2, 2] so that its dimensionality matches the one of the target array. This is equivalent to the code bellow:"
   ]
  },
  {
   "cell_type": "code",
   "execution_count": 4,
   "metadata": {},
   "outputs": [
    {
     "name": "stdout",
     "output_type": "stream",
     "text": [
      "[ 2  4  6  8 10 12 14 16 18 20]\n"
     ]
    }
   ],
   "source": [
    "scalar_1_broadcasted = np.full(10, 2)\n",
    "\n",
    "x_1d_multiplied_explicit_broadcast = x_1d * scalar_1_broadcasted\n",
    "\n",
    "print(x_1d_multiplied_explicit_broadcast)"
   ]
  },
  {
   "cell_type": "markdown",
   "metadata": {},
   "source": [
    "The same can be done with two-dimensional or other multidimensional arrays:"
   ]
  },
  {
   "cell_type": "code",
   "execution_count": 5,
   "metadata": {},
   "outputs": [
    {
     "name": "stdout",
     "output_type": "stream",
     "text": [
      "[[    1     4     9    16    25    36    49    64    81   100]\n",
      " [  121   144   169   196   225   256   289   324   361   400]\n",
      " [  441   484   529   576   625   676   729   784   841   900]\n",
      " [  961  1024  1089  1156  1225  1296  1369  1444  1521  1600]\n",
      " [ 1681  1764  1849  1936  2025  2116  2209  2304  2401  2500]\n",
      " [ 2601  2704  2809  2916  3025  3136  3249  3364  3481  3600]\n",
      " [ 3721  3844  3969  4096  4225  4356  4489  4624  4761  4900]\n",
      " [ 5041  5184  5329  5476  5625  5776  5929  6084  6241  6400]\n",
      " [ 6561  6724  6889  7056  7225  7396  7569  7744  7921  8100]\n",
      " [ 8281  8464  8649  8836  9025  9216  9409  9604  9801 10000]]\n"
     ]
    }
   ],
   "source": [
    "x_2d = np.array(\n",
    "      [[  1,   2,   3,   4,   5,   6,   7,   8,   9,  10],\n",
    "       [ 11,  12,  13,  14,  15,  16,  17,  18,  19,  20],\n",
    "       [ 21,  22,  23,  24,  25,  26,  27,  28,  29,  30],\n",
    "       [ 31,  32,  33,  34,  35,  36,  37,  38,  39,  40],\n",
    "       [ 41,  42,  43,  44,  45,  46,  47,  48,  49,  50],\n",
    "       [ 51,  52,  53,  54,  55,  56,  57,  58,  59,  60],\n",
    "       [ 61,  62,  63,  64,  65,  66,  67,  68,  69,  70],\n",
    "       [ 71,  72,  73,  74,  75,  76,  77,  78,  79,  80],\n",
    "       [ 81,  82,  83,  84,  85,  86,  87,  88,  89,  90],\n",
    "       [ 91,  92,  93,  94,  95,  96,  97,  98,  99, 100]])\n",
    "\n",
    "scalar2 = 2\n",
    "\n",
    "x_2d_power = x_2d ** 2\n",
    "\n",
    "print(x_2d_power)"
   ]
  },
  {
   "cell_type": "markdown",
   "metadata": {},
   "source": [
    "## 2. Broadcasting with arrays"
   ]
  },
  {
   "cell_type": "markdown",
   "metadata": {},
   "source": [
    "The broadcasting in NumPy follows a strict set of rules to determine the interaction between the two arrays:\n",
    "\n",
    "\n",
    "* **Rule 1**: If the two arrays differ in their number of dimensions, the shape of the one with fewer dimensions is padded with ones on its leading (left) side.\n",
    "* **Rule 2**: If the shape of the two arrays does not match in any dimension, the array with shape equal to 1 in that dimension is stretched to match the other shape.\n",
    "* **Rule 3**: If in any dimension the sizes disagree and neither is equal to 1, an error is raised.\n"
   ]
  },
  {
   "cell_type": "markdown",
   "metadata": {},
   "source": [
    "Let's consider the following case of arrays with different dimensions"
   ]
  },
  {
   "cell_type": "code",
   "execution_count": 6,
   "metadata": {},
   "outputs": [
    {
     "name": "stdout",
     "output_type": "stream",
     "text": [
      "(2,)\n"
     ]
    }
   ],
   "source": [
    "lh_array = np.array([1,1])\n",
    "print(lh_array.shape)"
   ]
  },
  {
   "cell_type": "code",
   "execution_count": 7,
   "metadata": {},
   "outputs": [
    {
     "name": "stdout",
     "output_type": "stream",
     "text": [
      "(2, 2)\n"
     ]
    }
   ],
   "source": [
    "rh_array = np.array([[2,3], [4,5]])\n",
    "print(rh_array.shape)"
   ]
  },
  {
   "cell_type": "markdown",
   "metadata": {},
   "source": [
    "The left hand array will be **broadcasted** to the right hand array by duplicating the first row."
   ]
  },
  {
   "attachments": {
    "image.png": {
     "image/png": "[encoded data removed]"
    }
   },
   "cell_type": "markdown",
   "metadata": {},
   "source": [
    "![image.png](attachment:image.png)"
   ]
  },
  {
   "cell_type": "code",
   "execution_count": 8,
   "metadata": {},
   "outputs": [
    {
     "name": "stdout",
     "output_type": "stream",
     "text": [
      "The shape of result array is: (2, 2)\n",
      "The shape of result array is: \n",
      " [[3 4]\n",
      " [5 6]]\n"
     ]
    }
   ],
   "source": [
    "result_array = rh_array + lh_array\n",
    "print(\"The shape of result array is: {}\".format(result_array.shape))\n",
    "print(\"The shape of result array is: \\n {}\".format(result_array))"
   ]
  }
 ],
 "metadata": {
  "kernelspec": {
   "display_name": "Python 3",
   "language": "python",
   "name": "python3"
  },
  "language_info": {
   "codemirror_mode": {
    "name": "ipython",
    "version": 3
   },
   "file_extension": ".py",
   "mimetype": "text/x-python",
   "name": "python",
   "nbconvert_exporter": "python",
   "pygments_lexer": "ipython3",
   "version": "3.7.3"
  }
 },
 "nbformat": 4,
 "nbformat_minor": 2
}
