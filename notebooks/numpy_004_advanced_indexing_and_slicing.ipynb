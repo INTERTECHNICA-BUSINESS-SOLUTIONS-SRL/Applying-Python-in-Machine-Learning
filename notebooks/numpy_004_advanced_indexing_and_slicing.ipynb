{
 "cells": [
  {
   "cell_type": "markdown",
   "metadata": {},
   "source": [
    "![*INTERTECHNICA - SOLON EDUCATIONAL PROGRAMS - TECHNOLOGY LINE*](https://solon.intertechnica.com/assets/IntertechnicaSolonEducationalPrograms-TechnologyLine.png)"
   ]
  },
  {
   "cell_type": "markdown",
   "metadata": {},
   "source": [
    "# Python for Data Processing - Numpy Advanced Indexing and Slicing"
   ]
  },
  {
   "cell_type": "markdown",
   "metadata": {},
   "source": [
    "*Numpy allows advanced indexing via arrays and boolean conditions. This indexing is different from the standard indexing which only uses tuple values*."
   ]
  },
  {
   "cell_type": "markdown",
   "metadata": {},
   "source": [
    "## 1. Advanced Indexing"
   ]
  },
  {
   "cell_type": "markdown",
   "metadata": {},
   "source": [
    "Let's initialize numpy and create some working data."
   ]
  },
  {
   "cell_type": "code",
   "execution_count": 1,
   "metadata": {},
   "outputs": [],
   "source": [
    "import numpy as np\n",
    "\n",
    "x_1d = np.array([ 1,   2,   3,   4,   5,   6,   7,   8,   9,  10])\n",
    "\n",
    "x_2d = np.array(\n",
    "      [[  1,   2,   3,   4,   5,   6,   7,   8,   9,  10],\n",
    "       [ 11,  12,  13,  14,  15,  16,  17,  18,  19,  20],\n",
    "       [ 21,  22,  23,  24,  25,  26,  27,  28,  29,  30],\n",
    "       [ 31,  32,  33,  34,  35,  36,  37,  38,  39,  40],\n",
    "       [ 41,  42,  43,  44,  45,  46,  47,  48,  49,  50],\n",
    "       [ 51,  52,  53,  54,  55,  56,  57,  58,  59,  60],\n",
    "       [ 61,  62,  63,  64,  65,  66,  67,  68,  69,  70],\n",
    "       [ 71,  72,  73,  74,  75,  76,  77,  78,  79,  80],\n",
    "       [ 81,  82,  83,  84,  85,  86,  87,  88,  89,  90],\n",
    "       [ 91,  92,  93,  94,  95,  96,  97,  98,  99, 100]])"
   ]
  },
  {
   "cell_type": "markdown",
   "metadata": {},
   "source": [
    "Numpy uses two types of advanced indexing: integer indexing and boolean indexing."
   ]
  },
  {
   "cell_type": "markdown",
   "metadata": {},
   "source": [
    "### Advanced integer indexing"
   ]
  },
  {
   "cell_type": "markdown",
   "metadata": {},
   "source": [
    "This kind of indexing is based on using integer arrays in order to select multipe elements of an array. It is possible to use an array of indexes to obtain a sub-set of the array elements from the unidimensional array:"
   ]
  },
  {
   "cell_type": "code",
   "execution_count": 2,
   "metadata": {},
   "outputs": [
    {
     "name": "stdout",
     "output_type": "stream",
     "text": [
      "The odd elements in the array can be used via an array of indexes [0, 2, 4, 6, 8] and it is the array [1 3 5 7 9]\n"
     ]
    }
   ],
   "source": [
    "odd_elements_indexes = [0,2,4,6,8]\n",
    "\n",
    "print(\"The odd elements in the array can be used via an array of indexes {} and it is the array {}\".format(\n",
    "    odd_elements_indexes,\n",
    "    x_1d[odd_elements_indexes]\n",
    "))"
   ]
  },
  {
   "cell_type": "markdown",
   "metadata": {},
   "source": [
    "We can also use multiple arrays of indexes to access multiple elements from multi-dimensional arrays.  \n",
    "In our case we can apply this to the two dimensional array created:"
   ]
  },
  {
   "cell_type": "code",
   "execution_count": 3,
   "metadata": {},
   "outputs": [
    {
     "name": "stdout",
     "output_type": "stream",
     "text": [
      "The elements at index row [0, 1, 2] and index column [0, 1, 2] are [ 1 12 23]\n"
     ]
    }
   ],
   "source": [
    "index_row = [0, 1, 2]\n",
    "index_column = [0, 1, 2]\n",
    "print(\"The elements at index row {} and index column {} are {}\".format(\n",
    "    index_row,\n",
    "    index_column,\n",
    "    x_2d[index_row, index_column]\n",
    "))"
   ]
  },
  {
   "cell_type": "code",
   "execution_count": 4,
   "metadata": {},
   "outputs": [
    {
     "name": "stdout",
     "output_type": "stream",
     "text": [
      "The elements at index row [-1, -2, -3] and index column [-1, -2, -3] are [100  89  78]\n"
     ]
    }
   ],
   "source": [
    "index_row = [-1, -2, -3]\n",
    "index_column = [-1, -2, -3]\n",
    "print(\"The elements at index row {} and index column {} are {}\".format(\n",
    "    index_row,\n",
    "    index_column,\n",
    "    x_2d[index_row, index_column]\n",
    "))"
   ]
  },
  {
   "cell_type": "markdown",
   "metadata": {},
   "source": [
    "### Advanced boolean indexing"
   ]
  },
  {
   "cell_type": "markdown",
   "metadata": {},
   "source": [
    "This advanced indexing occurs when **using arrays of boolean type elements for indexing**, such as may be returned from comparison operators. The array object itself will be used as an element for the boolean expression.  \n",
    "In this case **only the array elements which have True index values will be selected**."
   ]
  },
  {
   "cell_type": "code",
   "execution_count": 5,
   "metadata": {},
   "outputs": [
    {
     "name": "stdout",
     "output_type": "stream",
     "text": [
      "The elements selected by the boolean filter [True, False, False, False, False, False, False, False, False, True] are [ 1 10]\n"
     ]
    }
   ],
   "source": [
    "boolean_index_array = [True, False,  False,  False,  False,  False,  False,  False,  False, True]\n",
    "x_1d[boolean_index_array]\n",
    "\n",
    "print(\"The elements selected by the boolean filter {} are {}\".format(\n",
    "    boolean_index_array,\n",
    "    x_1d[boolean_index_array]\n",
    "))"
   ]
  },
  {
   "cell_type": "code",
   "execution_count": 6,
   "metadata": {},
   "outputs": [
    {
     "name": "stdout",
     "output_type": "stream",
     "text": [
      "The even elements in the array [ 1  2  3  4  5  6  7  8  9 10] are [ 2  4  6  8 10]\n"
     ]
    }
   ],
   "source": [
    "print(\"The even elements in the array {} are {}\".format(\n",
    "    x_1d,\n",
    "    x_1d[x_1d % 2 == 0]\n",
    "))"
   ]
  },
  {
   "cell_type": "code",
   "execution_count": 7,
   "metadata": {},
   "outputs": [
    {
     "name": "stdout",
     "output_type": "stream",
     "text": [
      "The powers of 2 in the array \n",
      " [[  1   2   3   4   5   6   7   8   9  10]\n",
      " [ 11  12  13  14  15  16  17  18  19  20]\n",
      " [ 21  22  23  24  25  26  27  28  29  30]\n",
      " [ 31  32  33  34  35  36  37  38  39  40]\n",
      " [ 41  42  43  44  45  46  47  48  49  50]\n",
      " [ 51  52  53  54  55  56  57  58  59  60]\n",
      " [ 61  62  63  64  65  66  67  68  69  70]\n",
      " [ 71  72  73  74  75  76  77  78  79  80]\n",
      " [ 81  82  83  84  85  86  87  88  89  90]\n",
      " [ 91  92  93  94  95  96  97  98  99 100]] \n",
      " are: \n",
      " [ 1  2  4  8 16 32 64]\n"
     ]
    }
   ],
   "source": [
    "print(\"The powers of 2 in the array \\n {} \\n are: \\n {}\".format(\n",
    "    x_2d,\n",
    "    x_2d[np.log2(x_2d).astype(int)  == np.log2(x_2d)]\n",
    "))"
   ]
  },
  {
   "cell_type": "markdown",
   "metadata": {},
   "source": [
    "The boolean selection is **a very powerful tool for removal of empty elements** and cleaning up the data."
   ]
  },
  {
   "cell_type": "markdown",
   "metadata": {},
   "source": [
    "A standard usage is removal of empty elements:"
   ]
  },
  {
   "cell_type": "code",
   "execution_count": 8,
   "metadata": {},
   "outputs": [
    {
     "name": "stdout",
     "output_type": "stream",
     "text": [
      "Non-empty elements in the array \n",
      " [None 2 None 4 5 None 7 None None 10] \n",
      " are: \n",
      " [2 4 5 7 10]\n"
     ]
    }
   ],
   "source": [
    "x_1d_with_empty_data = np.array([ None,   2,   None,   4,   5,   None,   7,   None,   None,  10])\n",
    "\n",
    "print(\"Non-empty elements in the array \\n {} \\n are: \\n {}\".format(\n",
    "    x_1d_with_empty_data,\n",
    "    x_1d_with_empty_data[x_1d_with_empty_data != None]\n",
    "))"
   ]
  },
  {
   "cell_type": "markdown",
   "metadata": {},
   "source": [
    "Another standard usage is **removal of invalid data**, for example non-numeric values from an array of strings:"
   ]
  },
  {
   "cell_type": "code",
   "execution_count": 9,
   "metadata": {},
   "outputs": [
    {
     "name": "stdout",
     "output_type": "stream",
     "text": [
      "Numeric elements in the array \n",
      " ['1' '2' 'three' '4' 'Invalid' '6' '7' 'Eight' 'maybe 9' '10'] \n",
      " are: \n",
      " ['1' '2' '4' '6' '7' '10']\n"
     ]
    }
   ],
   "source": [
    "x_1d_with_invalid_data = np.array([ \"1\",   \"2\",   \"three\",   \"4\",   \"Invalid\",   \"6\",   \"7\",   \"Eight\",   \"maybe 9\",  10])\n",
    "\n",
    "print(\"Numeric elements in the array \\n {} \\n are: \\n {}\".format(\n",
    "    x_1d_with_invalid_data,\n",
    "    x_1d_with_invalid_data[np.char.isnumeric(x_1d_with_invalid_data)]\n",
    "))"
   ]
  },
  {
   "cell_type": "markdown",
   "metadata": {},
   "source": [
    "# 2. Slicing"
   ]
  },
  {
   "cell_type": "markdown",
   "metadata": {},
   "source": [
    "*Numpy allows the usage of sub-arrays via the slice notation. The process of using sub-arrays via the slice notation is called slicing.*"
   ]
  },
  {
   "cell_type": "markdown",
   "metadata": {},
   "source": [
    "The standard notation for slicing is [start:stop:step] where:\n",
    "    \n",
    "* **start** is the start index for the slice. By default the start is 0;\n",
    "* **stop** is the stop index for the slice (the stop value is not included). By default the stop is -1;\n",
    "* **step** is the step using from one index to another. By default the step is 1. \n",
    "\n",
    "This will allow selecting a sub-array from the start index to end index using a specified step. This slice notation can be applied to multiple dimensions as well."
   ]
  },
  {
   "cell_type": "code",
   "execution_count": 10,
   "metadata": {},
   "outputs": [
    {
     "name": "stdout",
     "output_type": "stream",
     "text": [
      "The first\n",
      " 3 elements from aray \n",
      " [ 1  2  3  4  5  6  7  8  9 10] \n",
      " are: \n",
      "[1 2 3]\n"
     ]
    }
   ],
   "source": [
    "elements_length = 3\n",
    "print(\"The first\\n {} elements from aray \\n {} \\n are: \\n{}\".format(\n",
    "    elements_length,\n",
    "    x_1d,\n",
    "    x_1d[0:elements_length]\n",
    "))"
   ]
  },
  {
   "cell_type": "code",
   "execution_count": 11,
   "metadata": {},
   "outputs": [
    {
     "name": "stdout",
     "output_type": "stream",
     "text": [
      "The array \n",
      " [ 1  2  3  4  5  6  7  8  9 10] \n",
      " without first and last element is: \n",
      "[2 3 4 5 6 7 8 9]\n"
     ]
    }
   ],
   "source": [
    "print(\"The array \\n {} \\n without first and last element is: \\n{}\".format(\n",
    "    x_1d,\n",
    "    x_1d[1:-1]\n",
    "))"
   ]
  },
  {
   "cell_type": "code",
   "execution_count": 12,
   "metadata": {},
   "outputs": [
    {
     "name": "stdout",
     "output_type": "stream",
     "text": [
      "The first row from array \n",
      " [[  1   2   3   4   5   6   7   8   9  10]\n",
      " [ 11  12  13  14  15  16  17  18  19  20]\n",
      " [ 21  22  23  24  25  26  27  28  29  30]\n",
      " [ 31  32  33  34  35  36  37  38  39  40]\n",
      " [ 41  42  43  44  45  46  47  48  49  50]\n",
      " [ 51  52  53  54  55  56  57  58  59  60]\n",
      " [ 61  62  63  64  65  66  67  68  69  70]\n",
      " [ 71  72  73  74  75  76  77  78  79  80]\n",
      " [ 81  82  83  84  85  86  87  88  89  90]\n",
      " [ 91  92  93  94  95  96  97  98  99 100]] \n",
      " is: \n",
      "[ 1  2  3  4  5  6  7  8  9 10]\n"
     ]
    }
   ],
   "source": [
    "print(\"The first row from array \\n {} \\n is: \\n{}\".format(\n",
    "    x_2d,\n",
    "    x_2d[0,:]    \n",
    "))"
   ]
  },
  {
   "cell_type": "code",
   "execution_count": 13,
   "metadata": {},
   "outputs": [
    {
     "name": "stdout",
     "output_type": "stream",
     "text": [
      "The first column from array \n",
      " [[  1   2   3   4   5   6   7   8   9  10]\n",
      " [ 11  12  13  14  15  16  17  18  19  20]\n",
      " [ 21  22  23  24  25  26  27  28  29  30]\n",
      " [ 31  32  33  34  35  36  37  38  39  40]\n",
      " [ 41  42  43  44  45  46  47  48  49  50]\n",
      " [ 51  52  53  54  55  56  57  58  59  60]\n",
      " [ 61  62  63  64  65  66  67  68  69  70]\n",
      " [ 71  72  73  74  75  76  77  78  79  80]\n",
      " [ 81  82  83  84  85  86  87  88  89  90]\n",
      " [ 91  92  93  94  95  96  97  98  99 100]] \n",
      " is: \n",
      "[ 1 11 21 31 41 51 61 71 81 91]\n"
     ]
    }
   ],
   "source": [
    "print(\"The first column from array \\n {} \\n is: \\n{}\".format(\n",
    "    x_2d,\n",
    "    x_2d[:,0]    \n",
    "))"
   ]
  },
  {
   "cell_type": "code",
   "execution_count": 14,
   "metadata": {},
   "outputs": [
    {
     "name": "stdout",
     "output_type": "stream",
     "text": [
      "The array center sub-array with length 2 \n",
      " from array \n",
      " [[  1   2   3   4   5   6   7   8   9  10]\n",
      " [ 11  12  13  14  15  16  17  18  19  20]\n",
      " [ 21  22  23  24  25  26  27  28  29  30]\n",
      " [ 31  32  33  34  35  36  37  38  39  40]\n",
      " [ 41  42  43  44  45  46  47  48  49  50]\n",
      " [ 51  52  53  54  55  56  57  58  59  60]\n",
      " [ 61  62  63  64  65  66  67  68  69  70]\n",
      " [ 71  72  73  74  75  76  77  78  79  80]\n",
      " [ 81  82  83  84  85  86  87  88  89  90]\n",
      " [ 91  92  93  94  95  96  97  98  99 100]] \n",
      " is: \n",
      "[[34 35 36 37]\n",
      " [44 45 46 47]\n",
      " [54 55 56 57]\n",
      " [64 65 66 67]]\n"
     ]
    }
   ],
   "source": [
    "center_length = 2\n",
    "print(\"The array center sub-array with length {} \\n from array \\n {} \\n is: \\n{}\".format(\n",
    "    center_length,\n",
    "    x_2d,\n",
    "    x_2d\n",
    "      [x_2d.shape[0] // 2  - center_length: x_2d.shape[0] // 2 + center_length,\n",
    "      x_2d.shape[1] // 2 - center_length: x_2d.shape[1] // 2 + center_length]    \n",
    "))"
   ]
  },
  {
   "cell_type": "markdown",
   "metadata": {},
   "source": [
    "It is important to note that using a negative step **will select the data from the end to beginning** (practically reversing the array):"
   ]
  },
  {
   "cell_type": "code",
   "execution_count": 15,
   "metadata": {},
   "outputs": [
    {
     "name": "stdout",
     "output_type": "stream",
     "text": [
      "The array \n",
      " [ 1  2  3  4  5  6  7  8  9 10] \n",
      " reversed is: \n",
      " [10  9  8  7  6  5  4  3  2  1]\n"
     ]
    }
   ],
   "source": [
    "print(\"The array \\n {} \\n reversed is: \\n {}\".format(\n",
    "    x_1d,\n",
    "    x_1d[::-1]\n",
    "))"
   ]
  }
 ],
 "metadata": {
  "kernelspec": {
   "display_name": "Python 3",
   "language": "python",
   "name": "python3"
  },
  "language_info": {
   "codemirror_mode": {
    "name": "ipython",
    "version": 3
   },
   "file_extension": ".py",
   "mimetype": "text/x-python",
   "name": "python",
   "nbconvert_exporter": "python",
   "pygments_lexer": "ipython3",
   "version": "3.7.3"
  }
 },
 "nbformat": 4,
 "nbformat_minor": 2
}
