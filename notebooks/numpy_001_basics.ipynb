{
 "cells": [
  {
   "attachments": {
    "IntertechnicaLogo.png": {
     "image/png": "[encoded data removed]"
    }
   },
   "cell_type": "markdown",
   "metadata": {},
   "source": [
    "![*INTERTECHNICA - SOLON EDUCATIONAL PROGRAMS - TECHNOLOGY LINE*](attachment:IntertechnicaLogo.png)"
   ]
  },
  {
   "cell_type": "markdown",
   "metadata": {},
   "source": [
    "# Python for Data Processing - Numpy Basics"
   ]
  },
  {
   "cell_type": "markdown",
   "metadata": {},
   "source": [
    "*Numpy is the core library for scientific computing in Python. \n",
    "It provides a high-performance multidimensional array object, and the tools for working with these arrays.*"
   ]
  },
  {
   "cell_type": "markdown",
   "metadata": {},
   "source": [
    "## 1. Installing and Importing numpy"
   ]
  },
  {
   "cell_type": "markdown",
   "metadata": {},
   "source": [
    "Numpy can be installed by using the following command (usually it comes pre-installed in conda-like environments):"
   ]
  },
  {
   "cell_type": "code",
   "execution_count": 1,
   "metadata": {},
   "outputs": [
    {
     "name": "stdout",
     "output_type": "stream",
     "text": [
      "Requirement already satisfied: numpy in /home/marin/anaconda3/lib/python3.7/site-packages (1.16.2)\r\n"
     ]
    }
   ],
   "source": [
    "!python -m pip install numpy"
   ]
  },
  {
   "cell_type": "markdown",
   "metadata": {},
   "source": [
    "Numpy can be imported as any other Python Module via the **import** statement. "
   ]
  },
  {
   "cell_type": "code",
   "execution_count": 2,
   "metadata": {},
   "outputs": [
    {
     "name": "stdout",
     "output_type": "stream",
     "text": [
      "You are using numpy version 1.16.2\n"
     ]
    }
   ],
   "source": [
    "import numpy as np\n",
    "print (\"You are using numpy version {}\".format(np.__version__))"
   ]
  },
  {
   "cell_type": "markdown",
   "metadata": {},
   "source": [
    "## 2. Understanding numpy Arrays"
   ]
  },
  {
   "cell_type": "markdown",
   "metadata": {},
   "source": [
    "A numpy array is a **container of values** and it is indexed by a **tuple of non-negative integers**.  \n",
    "All the values of a numpy array have the same type.  "
   ]
  },
  {
   "cell_type": "markdown",
   "metadata": {},
   "source": [
    "The numpy arrays are represented by the array class in the numpy package.  \n",
    "The types supported by numpy are as follows:"
   ]
  },
  {
   "cell_type": "markdown",
   "metadata": {},
   "source": [
    "---"
   ]
  },
  {
   "cell_type": "markdown",
   "metadata": {},
   "source": [
    "| Data type\t    | Description |\n",
    "|---------------|-------------|\n",
    "| ``bool_``     | Boolean (True or False) stored as a byte |\n",
    "| ``int_``      | Default integer type (same as C ``long``; normally either ``int64`` or ``int32``)| \n",
    "| ``intc``      | Identical to C ``int`` (normally ``int32`` or ``int64``)| \n",
    "| ``intp``      | Integer used for indexing (same as C ``ssize_t``; normally either ``int32`` or ``int64``)| \n",
    "| ``int8``      | Byte (-128 to 127)| \n",
    "| ``int16``     | Integer (-32768 to 32767)|\n",
    "| ``int32``     | Integer (-2147483648 to 2147483647)|\n",
    "| ``int64``     | Integer (-9223372036854775808 to 9223372036854775807)| \n",
    "| ``uint8``     | Unsigned integer (0 to 255)| \n",
    "| ``uint16``    | Unsigned integer (0 to 65535)| \n",
    "| ``uint32``    | Unsigned integer (0 to 4294967295)| \n",
    "| ``uint64``    | Unsigned integer (0 to 18446744073709551615)| \n",
    "| ``float_``    | Shorthand for ``float64``.| \n",
    "| ``float16``   | Half precision float: sign bit, 5 bits exponent, 10 bits mantissa| \n",
    "| ``float32``   | Single precision float: sign bit, 8 bits exponent, 23 bits mantissa| \n",
    "| ``float64``   | Double precision float: sign bit, 11 bits exponent, 52 bits mantissa| \n",
    "| ``complex_``  | Shorthand for ``complex128``.| \n",
    "| ``complex64`` | Complex number, represented by two 32-bit floats| \n",
    "| ``complex128``| Complex number, represented by two 64-bit floats| "
   ]
  },
  {
   "cell_type": "markdown",
   "metadata": {},
   "source": [
    "---"
   ]
  },
  {
   "cell_type": "markdown",
   "metadata": {},
   "source": [
    "These types can be directly accessed from the numpy package. "
   ]
  },
  {
   "cell_type": "code",
   "execution_count": 3,
   "metadata": {},
   "outputs": [
    {
     "name": "stdout",
     "output_type": "stream",
     "text": [
      "<class 'numpy.int16'>\n"
     ]
    }
   ],
   "source": [
    "print(np.int16)"
   ]
  },
  {
   "cell_type": "code",
   "execution_count": 4,
   "metadata": {},
   "outputs": [
    {
     "name": "stdout",
     "output_type": "stream",
     "text": [
      "<class 'numpy.float64'>\n"
     ]
    }
   ],
   "source": [
    "print(np.float64)"
   ]
  },
  {
   "cell_type": "markdown",
   "metadata": {},
   "source": [
    "| Code\t    | Description |\n",
    "|---------------|-------------|\n",
    "|'?'| \tboolean|\n",
    "|'b'| \t(signed) byte|\n",
    "|'B'| \tunsigned byte|\n",
    "|'i'| \t(signed) integer|\n",
    "|'u'| \tunsigned integer|\n",
    "|'f'| \tfloating-point|\n",
    "|'c'| \tcomplex-floating point|\n",
    "|'m'| \ttimedelta|\n",
    "|'M'| \tdatetime|\n",
    "|'O'| \t(Python) objects|\n",
    "|'S', 'a'| \tzero-terminated bytes (not recommended)|\n",
    "|'U'| \tUnicode string|\n",
    "|'V'| \traw data (void)| "
   ]
  },
  {
   "cell_type": "code",
   "execution_count": 5,
   "metadata": {},
   "outputs": [
    {
     "name": "stdout",
     "output_type": "stream",
     "text": [
      "int32\n"
     ]
    }
   ],
   "source": [
    "print(np.dtype('i4'))"
   ]
  },
  {
   "cell_type": "code",
   "execution_count": 6,
   "metadata": {},
   "outputs": [
    {
     "name": "stdout",
     "output_type": "stream",
     "text": [
      "<U20\n"
     ]
    }
   ],
   "source": [
    "print(np.dtype('U20'))"
   ]
  },
  {
   "cell_type": "markdown",
   "metadata": {},
   "source": [
    "## 3. Understanding numpy Array Indexing"
   ]
  },
  {
   "cell_type": "markdown",
   "metadata": {},
   "source": [
    "### One-dimensional array indexing"
   ]
  },
  {
   "cell_type": "markdown",
   "metadata": {},
   "source": [
    "The one-dimensional arrays are accessed via the simple indexing existing in Python. The indexing starts from 0.  \n",
    "Negative indexing can be used and it will be applied from the end of the array and it starts by -1."
   ]
  },
  {
   "cell_type": "markdown",
   "metadata": {},
   "source": [
    "Let's build a 1-dimensional array:"
   ]
  },
  {
   "cell_type": "code",
   "execution_count": 7,
   "metadata": {},
   "outputs": [],
   "source": [
    "x_unidimensional = np.array([ 1,   2,   3,   4,   5,   6,   7,   8,   9,  10])"
   ]
  },
  {
   "cell_type": "markdown",
   "metadata": {},
   "source": [
    "We can experiment with indexing as follows:"
   ]
  },
  {
   "cell_type": "code",
   "execution_count": 8,
   "metadata": {},
   "outputs": [
    {
     "name": "stdout",
     "output_type": "stream",
     "text": [
      "First element is 1\n"
     ]
    }
   ],
   "source": [
    "print(\"First element is {}\".format(x_unidimensional[0]))"
   ]
  },
  {
   "cell_type": "code",
   "execution_count": 9,
   "metadata": {},
   "outputs": [
    {
     "name": "stdout",
     "output_type": "stream",
     "text": [
      "First element can be reffered using positive indexing 0 and it is 1\n"
     ]
    }
   ],
   "source": [
    "first_index = 0 \n",
    "print(\"First element can be referred using positive indexing {} and it is {}\".format(\n",
    "    first_index,\n",
    "    x_unidimensional[first_index]\n",
    "))"
   ]
  },
  {
   "cell_type": "code",
   "execution_count": 10,
   "metadata": {},
   "outputs": [
    {
     "name": "stdout",
     "output_type": "stream",
     "text": [
      "First element can be reffered also using negative indexing -10 and it is 1\n"
     ]
    }
   ],
   "source": [
    "first_index_negative = -10\n",
    "print(\"First element can be referred also using negative indexing {} and it is {}\".format(\n",
    "    first_index_negative,\n",
    "    x_unidimensional[first_index_negative]\n",
    "))"
   ]
  },
  {
   "cell_type": "code",
   "execution_count": 11,
   "metadata": {},
   "outputs": [
    {
     "name": "stdout",
     "output_type": "stream",
     "text": [
      "Last element can be reffered using positive indexing 9 and it is 10\n"
     ]
    }
   ],
   "source": [
    "last_index = 9\n",
    "print(\"Last element can be referred using positive indexing {} and it is {}\".format(\n",
    "    last_index,\n",
    "    x_unidimensional[last_index]\n",
    "))"
   ]
  },
  {
   "cell_type": "code",
   "execution_count": 12,
   "metadata": {},
   "outputs": [
    {
     "name": "stdout",
     "output_type": "stream",
     "text": [
      "Last element can be reffered also using negative indexing -1 and it is 10\n"
     ]
    }
   ],
   "source": [
    "last_index_negative = -1\n",
    "print(\"Last element can be referred also using negative indexing {} and it is {}\".format(\n",
    "    last_index_negative,\n",
    "    x_unidimensional[last_index_negative]\n",
    "))"
   ]
  },
  {
   "cell_type": "code",
   "execution_count": 13,
   "metadata": {},
   "outputs": [
    {
     "name": "stdout",
     "output_type": "stream",
     "text": [
      "The 4-th element can be reffered using positive indexing 3 and it is 4\n"
     ]
    }
   ],
   "source": [
    "e4_index = 3 \n",
    "print(\"The 4-th element can be referred using positive indexing {} and it is {}\".format(\n",
    "    e4_index,\n",
    "    x_unidimensional[e4_index]\n",
    "))"
   ]
  },
  {
   "cell_type": "code",
   "execution_count": 14,
   "metadata": {},
   "outputs": [
    {
     "name": "stdout",
     "output_type": "stream",
     "text": [
      "The 4-th element can be reffered also using negative indexing -7 and it is 4\n"
     ]
    }
   ],
   "source": [
    "e4_index_negative = -7\n",
    "print(\"The 4-th element can be referred also using negative indexing {} and it is {}\".format(\n",
    "    e4_index_negative,\n",
    "    x_unidimensional[e4_index_negative]\n",
    "))"
   ]
  },
  {
   "cell_type": "markdown",
   "metadata": {},
   "source": [
    "It is possible to use an array of indexes to obtain a sub-set of the array elements."
   ]
  },
  {
   "cell_type": "code",
   "execution_count": 15,
   "metadata": {},
   "outputs": [
    {
     "name": "stdout",
     "output_type": "stream",
     "text": [
      "The odd elements in the array can be used via an array of indexes [0, 2, 4, 6, 8] and it is the array [1 3 5 7 9]\n"
     ]
    }
   ],
   "source": [
    "odd_elements_indexes = [0,2,4,6,8]\n",
    "\n",
    "print(\"The odd elements in the array can be used via an array of indexes {} and it is the array {}\".format(\n",
    "    odd_elements_indexes,\n",
    "    x_unidimensional[odd_elements_indexes]\n",
    "))"
   ]
  },
  {
   "cell_type": "markdown",
   "metadata": {},
   "source": [
    "There are also more advanced indexing methods which will be discussed in the section related to advanced indexing."
   ]
  },
  {
   "cell_type": "markdown",
   "metadata": {},
   "source": [
    "### Two dimensional array indexing"
   ]
  },
  {
   "cell_type": "markdown",
   "metadata": {},
   "source": [
    "The indexing of two-dimensional arrays is done via a pair of indexes, the first element of the pair represents the row and the second element represents the column.  \n",
    "For each dimension we can apply the same rules of indexing as for unidimensional case."
   ]
  },
  {
   "cell_type": "markdown",
   "metadata": {},
   "source": [
    "Let's build a simple 10x10 array of integer values."
   ]
  },
  {
   "cell_type": "code",
   "execution_count": 16,
   "metadata": {},
   "outputs": [],
   "source": [
    "x_two_dimensional = np.array(\n",
    "      [[  1,   2,   3,   4,   5,   6,   7,   8,   9,  10],\n",
    "       [ 11,  12,  13,  14,  15,  16,  17,  18,  19,  20],\n",
    "       [ 21,  22,  23,  24,  25,  26,  27,  28,  29,  30],\n",
    "       [ 31,  32,  33,  34,  35,  36,  37,  38,  39,  40],\n",
    "       [ 41,  42,  43,  44,  45,  46,  47,  48,  49,  50],\n",
    "       [ 51,  52,  53,  54,  55,  56,  57,  58,  59,  60],\n",
    "       [ 61,  62,  63,  64,  65,  66,  67,  68,  69,  70],\n",
    "       [ 71,  72,  73,  74,  75,  76,  77,  78,  79,  80],\n",
    "       [ 81,  82,  83,  84,  85,  86,  87,  88,  89,  90],\n",
    "       [ 91,  92,  93,  94,  95,  96,  97,  98,  99, 100]])"
   ]
  },
  {
   "cell_type": "markdown",
   "metadata": {},
   "source": [
    "We can experiment with indexing as follows:"
   ]
  },
  {
   "cell_type": "code",
   "execution_count": 17,
   "metadata": {},
   "outputs": [
    {
     "name": "stdout",
     "output_type": "stream",
     "text": [
      "The element at index row 0 and index column 0 is 1\n"
     ]
    }
   ],
   "source": [
    "index_row = 0\n",
    "index_column = 0\n",
    "print(\"The element at index row {} and index column {} is {}\".format(\n",
    "    index_row,\n",
    "    index_column,\n",
    "    x_two_dimensional[index_row, index_column]\n",
    "))"
   ]
  },
  {
   "cell_type": "code",
   "execution_count": 18,
   "metadata": {},
   "outputs": [
    {
     "name": "stdout",
     "output_type": "stream",
     "text": [
      "The element at index row 2 and index column 3 is 24\n"
     ]
    }
   ],
   "source": [
    "index_row = 2\n",
    "index_column = 3\n",
    "print(\"The element at index row {} and index column {} is {}\".format(\n",
    "    index_row,\n",
    "    index_column,\n",
    "    x_two_dimensional[index_row, index_column]\n",
    "))"
   ]
  },
  {
   "cell_type": "code",
   "execution_count": 19,
   "metadata": {},
   "outputs": [
    {
     "name": "stdout",
     "output_type": "stream",
     "text": [
      "The element at index row -1 and index column -1 is 100\n"
     ]
    }
   ],
   "source": [
    "index_row = -1\n",
    "index_column = -1\n",
    "print(\"The element at index row {} and index column {} is {}\".format(\n",
    "    index_row,\n",
    "    index_column,\n",
    "    x_two_dimensional[index_row, index_column]\n",
    "))"
   ]
  },
  {
   "cell_type": "markdown",
   "metadata": {},
   "source": [
    "###  Multi-dimensional array indexing"
   ]
  },
  {
   "cell_type": "markdown",
   "metadata": {},
   "source": [
    "The case of two-dimensional arrays can be extended to multi-dimensional arrays. Therefore:  \n",
    "* An element from a n-dimensional array can be accessed by a tuple of n non-negative integers;\n",
    "* The 1-dimensional indexing rules apply for each dimension of the multi-dimensional array;\n",
    "* It is possible to use array of indexes to select multiple elements from a n-dimensional array."
   ]
  },
  {
   "cell_type": "markdown",
   "metadata": {},
   "source": [
    "## 4. Array Dimensioning"
   ]
  },
  {
   "cell_type": "markdown",
   "metadata": {},
   "source": [
    "The shape of an array is given by a tuple of positive integers representing the size of the array along each dimension. The shape of the array is given by the **shape** property:"
   ]
  },
  {
   "cell_type": "code",
   "execution_count": 20,
   "metadata": {},
   "outputs": [
    {
     "name": "stdout",
     "output_type": "stream",
     "text": [
      "The shape of the 1-dimensional array is (10,)\n"
     ]
    }
   ],
   "source": [
    "print (\"The shape of the 1-dimensional array is {}\".format(x_unidimensional.shape))"
   ]
  },
  {
   "cell_type": "code",
   "execution_count": 21,
   "metadata": {},
   "outputs": [
    {
     "name": "stdout",
     "output_type": "stream",
     "text": [
      "The shape of the 2-dimensional array is (10, 10)\n"
     ]
    }
   ],
   "source": [
    "print (\"The shape of the 2-dimensional array is {}\".format(x_two_dimensional.shape))"
   ]
  },
  {
   "cell_type": "markdown",
   "metadata": {},
   "source": [
    "Arrays can be reshaped via the **reshape** method. The reshape method accepts a tuple parameter specifying the new shape of the array. The new shape must be compatible with the number of the elements in the array."
   ]
  },
  {
   "cell_type": "code",
   "execution_count": 22,
   "metadata": {},
   "outputs": [
    {
     "name": "stdout",
     "output_type": "stream",
     "text": [
      "The 1-dimensional array reshaped on (5, 2) is [[ 1  2]\n",
      " [ 3  4]\n",
      " [ 5  6]\n",
      " [ 7  8]\n",
      " [ 9 10]]\n"
     ]
    }
   ],
   "source": [
    "new_shape = (5,2)\n",
    "x_unidimensional_reshaped = x_unidimensional.reshape(new_shape)\n",
    "print (\"The 1-dimensional array reshaped on {} is {}\".format(\n",
    "    new_shape,\n",
    "    x_unidimensional_reshaped\n",
    "))"
   ]
  },
  {
   "cell_type": "code",
   "execution_count": 23,
   "metadata": {},
   "outputs": [
    {
     "name": "stdout",
     "output_type": "stream",
     "text": [
      "The 2-dimensional array reshaped on (2, 2, 25) is \n",
      " [[[  1   2   3   4   5   6   7   8   9  10  11  12  13  14  15  16  17\n",
      "    18  19  20  21  22  23  24  25]\n",
      "  [ 26  27  28  29  30  31  32  33  34  35  36  37  38  39  40  41  42\n",
      "    43  44  45  46  47  48  49  50]]\n",
      "\n",
      " [[ 51  52  53  54  55  56  57  58  59  60  61  62  63  64  65  66  67\n",
      "    68  69  70  71  72  73  74  75]\n",
      "  [ 76  77  78  79  80  81  82  83  84  85  86  87  88  89  90  91  92\n",
      "    93  94  95  96  97  98  99 100]]]\n"
     ]
    }
   ],
   "source": [
    "new_shape = (2, 2, 25)\n",
    "x_two_dimensional_reshaped = x_two_dimensional.reshape(new_shape)\n",
    "print (\"The 2-dimensional array reshaped on {} is \\n {}\".format(\n",
    "    new_shape,\n",
    "    x_two_dimensional_reshaped\n",
    "))"
   ]
  },
  {
   "cell_type": "markdown",
   "metadata": {},
   "source": [
    "It is possible to specify -1 for a single element of the tuple, in this case the value of the dimension will be **inferred from the values of the other dimensions**."
   ]
  },
  {
   "cell_type": "code",
   "execution_count": 24,
   "metadata": {},
   "outputs": [
    {
     "name": "stdout",
     "output_type": "stream",
     "text": [
      "The 2-dimensional array reshaped on (-1, 25) is \n",
      " [[  1   2   3   4   5   6   7   8   9  10  11  12  13  14  15  16  17  18\n",
      "   19  20  21  22  23  24  25]\n",
      " [ 26  27  28  29  30  31  32  33  34  35  36  37  38  39  40  41  42  43\n",
      "   44  45  46  47  48  49  50]\n",
      " [ 51  52  53  54  55  56  57  58  59  60  61  62  63  64  65  66  67  68\n",
      "   69  70  71  72  73  74  75]\n",
      " [ 76  77  78  79  80  81  82  83  84  85  86  87  88  89  90  91  92  93\n",
      "   94  95  96  97  98  99 100]]\n"
     ]
    }
   ],
   "source": [
    "new_shape = (-1,25)\n",
    "x_two_dimensional_reshaped = x_two_dimensional.reshape(new_shape)\n",
    "print (\"The 2-dimensional array reshaped on {} is \\n {}\".format(\n",
    "    new_shape,\n",
    "    x_two_dimensional_reshaped\n",
    "))"
   ]
  },
  {
   "cell_type": "code",
   "execution_count": 25,
   "metadata": {},
   "outputs": [
    {
     "name": "stdout",
     "output_type": "stream",
     "text": [
      "The 2-dimensional array reshaped on (-1, 2, 25) is \n",
      " [[[  1   2   3   4   5   6   7   8   9  10  11  12  13  14  15  16  17\n",
      "    18  19  20  21  22  23  24  25]\n",
      "  [ 26  27  28  29  30  31  32  33  34  35  36  37  38  39  40  41  42\n",
      "    43  44  45  46  47  48  49  50]]\n",
      "\n",
      " [[ 51  52  53  54  55  56  57  58  59  60  61  62  63  64  65  66  67\n",
      "    68  69  70  71  72  73  74  75]\n",
      "  [ 76  77  78  79  80  81  82  83  84  85  86  87  88  89  90  91  92\n",
      "    93  94  95  96  97  98  99 100]]]\n"
     ]
    }
   ],
   "source": [
    "new_shape = (-1, 2, 25)\n",
    "x_two_dimensional_reshaped = x_two_dimensional.reshape(new_shape)\n",
    "print (\"The 2-dimensional array reshaped on {} is \\n {}\".format(\n",
    "    new_shape,\n",
    "    x_two_dimensional_reshaped\n",
    "))"
   ]
  },
  {
   "cell_type": "markdown",
   "metadata": {},
   "source": [
    "It is possible to **increase indefinitely the dimensionality of an array** by using tuples with a larger count and value 1."
   ]
  },
  {
   "cell_type": "code",
   "execution_count": 26,
   "metadata": {
    "scrolled": true
   },
   "outputs": [
    {
     "name": "stdout",
     "output_type": "stream",
     "text": [
      "The 1-dimensional array reshaped on (1, 1, 10) is [[[ 1  2  3  4  5  6  7  8  9 10]]]\n"
     ]
    }
   ],
   "source": [
    "new_shape = (1,1,10)\n",
    "x_unidimensional_reshaped_3_dimensional = x_unidimensional.reshape(new_shape)\n",
    "print (\"The 1-dimensional array reshaped on {} is {}\".format(\n",
    "    new_shape,\n",
    "    x_unidimensional_reshaped_3_dimensional\n",
    "))"
   ]
  },
  {
   "cell_type": "markdown",
   "metadata": {},
   "source": [
    "By **omitting the last dimension value**, it is possible to reduce the dimensionality of a numpy array:"
   ]
  },
  {
   "cell_type": "code",
   "execution_count": 27,
   "metadata": {},
   "outputs": [
    {
     "name": "stdout",
     "output_type": "stream",
     "text": [
      "The 3-dimensional array reshaped on (1, 10) is [[ 1  2  3  4  5  6  7  8  9 10]]\n"
     ]
    }
   ],
   "source": [
    "new_shape = (1,10,)\n",
    "x_3_dimensional_reshaped_2_dimensional = x_unidimensional_reshaped_3_dimensional.reshape(new_shape)\n",
    "print (\"The 3-dimensional array reshaped on {} is {}\".format(\n",
    "    new_shape,\n",
    "    x_3_dimensional_reshaped_2_dimensional\n",
    "))"
   ]
  }
 ],
 "metadata": {
  "kernelspec": {
   "display_name": "Python 3",
   "language": "python",
   "name": "python3"
  },
  "language_info": {
   "codemirror_mode": {
    "name": "ipython",
    "version": 3
   },
   "file_extension": ".py",
   "mimetype": "text/x-python",
   "name": "python",
   "nbconvert_exporter": "python",
   "pygments_lexer": "ipython3",
   "version": "3.7.3"
  }
 },
 "nbformat": 4,
 "nbformat_minor": 2
}
