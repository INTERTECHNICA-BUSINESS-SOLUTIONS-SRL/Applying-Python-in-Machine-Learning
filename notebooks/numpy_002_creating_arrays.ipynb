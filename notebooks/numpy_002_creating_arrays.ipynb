{
 "cells": [
  {
   "attachments": {
    "IntertechnicaLogo.png": {
     "image/png": "[encoded data removed]"
    }
   },
   "cell_type": "markdown",
   "metadata": {},
   "source": [
    "![*INTERTECHNICA - SOLON EDUCATIONAL PROGRAMS - TECHNOLOGY LINE*](attachment:IntertechnicaLogo.png)"
   ]
  },
  {
   "cell_type": "markdown",
   "metadata": {},
   "source": [
    "# Python for Data Processing - Creating Arrays"
   ]
  },
  {
   "cell_type": "markdown",
   "metadata": {},
   "source": [
    "*Numpy allows various methods for creating arrays starting from creation using basic types to loading data from external sources*."
   ]
  },
  {
   "cell_type": "markdown",
   "metadata": {},
   "source": [
    "Initializing environment"
   ]
  },
  {
   "cell_type": "code",
   "execution_count": 1,
   "metadata": {},
   "outputs": [
    {
     "name": "stdout",
     "output_type": "stream",
     "text": [
      "Requirement already satisfied: numpy in /home/marin/anaconda3/lib/python3.7/site-packages (1.16.2)\r\n"
     ]
    }
   ],
   "source": [
    "!python -m pip install numpy"
   ]
  },
  {
   "cell_type": "markdown",
   "metadata": {},
   "source": [
    "## 1. Creating from arrays and lists"
   ]
  },
  {
   "cell_type": "markdown",
   "metadata": {},
   "source": [
    "An array can be created from simple Python arrays:"
   ]
  },
  {
   "cell_type": "code",
   "execution_count": 2,
   "metadata": {},
   "outputs": [],
   "source": [
    "import numpy as np"
   ]
  },
  {
   "cell_type": "code",
   "execution_count": 3,
   "metadata": {},
   "outputs": [
    {
     "name": "stdout",
     "output_type": "stream",
     "text": [
      "[ 1  2  3  4  5  6  7  8  9 10]\n"
     ]
    }
   ],
   "source": [
    "x_1d = np.array([ 1,   2,   3,   4,   5,   6,   7,   8,   9,  10])\n",
    "print(x_1d)"
   ]
  },
  {
   "cell_type": "code",
   "execution_count": 4,
   "metadata": {},
   "outputs": [
    {
     "name": "stdout",
     "output_type": "stream",
     "text": [
      "[[  1   2   3   4   5   6   7   8   9  10]\n",
      " [ 11  12  13  14  15  16  17  18  19  20]\n",
      " [ 21  22  23  24  25  26  27  28  29  30]\n",
      " [ 31  32  33  34  35  36  37  38  39  40]\n",
      " [ 41  42  43  44  45  46  47  48  49  50]\n",
      " [ 51  52  53  54  55  56  57  58  59  60]\n",
      " [ 61  62  63  64  65  66  67  68  69  70]\n",
      " [ 71  72  73  74  75  76  77  78  79  80]\n",
      " [ 81  82  83  84  85  86  87  88  89  90]\n",
      " [ 91  92  93  94  95  96  97  98  99 100]]\n"
     ]
    }
   ],
   "source": [
    "x_2d = np.array(\n",
    "      [[  1,   2,   3,   4,   5,   6,   7,   8,   9,  10],\n",
    "       [ 11,  12,  13,  14,  15,  16,  17,  18,  19,  20],\n",
    "       [ 21,  22,  23,  24,  25,  26,  27,  28,  29,  30],\n",
    "       [ 31,  32,  33,  34,  35,  36,  37,  38,  39,  40],\n",
    "       [ 41,  42,  43,  44,  45,  46,  47,  48,  49,  50],\n",
    "       [ 51,  52,  53,  54,  55,  56,  57,  58,  59,  60],\n",
    "       [ 61,  62,  63,  64,  65,  66,  67,  68,  69,  70],\n",
    "       [ 71,  72,  73,  74,  75,  76,  77,  78,  79,  80],\n",
    "       [ 81,  82,  83,  84,  85,  86,  87,  88,  89,  90],\n",
    "       [ 91,  92,  93,  94,  95,  96,  97,  98,  99, 100]])\n",
    "\n",
    "print(x_2d)"
   ]
  },
  {
   "cell_type": "markdown",
   "metadata": {},
   "source": [
    "Numpy also allows creation of arrays from lists:"
   ]
  },
  {
   "cell_type": "code",
   "execution_count": 5,
   "metadata": {},
   "outputs": [],
   "source": [
    "x_1d_list = np.array(( 1,   2,   3,   4,   5,   6,   7,   8,   9,  10))"
   ]
  },
  {
   "cell_type": "markdown",
   "metadata": {},
   "source": [
    "By using lists it is possible to create **arrays of complex types** as well:"
   ]
  },
  {
   "cell_type": "code",
   "execution_count": 6,
   "metadata": {},
   "outputs": [
    {
     "name": "stdout",
     "output_type": "stream",
     "text": [
      "[('One', 1) ('Two', 2) ('Three', 3)]\n"
     ]
    }
   ],
   "source": [
    "x_1d_complex = np.array(\n",
    "    [(\"One\", 1), (\"Two\", 2), (\"Three\", 3)],\n",
    "    dtype=[(\"Literal Form\", \"U10\"), (\"Numeric Value\", \"i1\")])\n",
    "\n",
    "print(x_1d_complex)"
   ]
  },
  {
   "cell_type": "code",
   "execution_count": 7,
   "metadata": {},
   "outputs": [
    {
     "name": "stdout",
     "output_type": "stream",
     "text": [
      "['One' 'Two' 'Three']\n"
     ]
    }
   ],
   "source": [
    "print(x_1d_complex[\"Literal Form\"])"
   ]
  },
  {
   "cell_type": "code",
   "execution_count": 8,
   "metadata": {},
   "outputs": [
    {
     "name": "stdout",
     "output_type": "stream",
     "text": [
      "[1 2 3]\n"
     ]
    }
   ],
   "source": [
    "print(x_1d_complex[\"Numeric Value\"])"
   ]
  },
  {
   "cell_type": "markdown",
   "metadata": {},
   "source": [
    "## 2. Creating via dedicated functions"
   ]
  },
  {
   "cell_type": "markdown",
   "metadata": {},
   "source": [
    "Numpy allows creation of arrays using dedicated numpy functions."
   ]
  },
  {
   "cell_type": "markdown",
   "metadata": {},
   "source": [
    "One of these functions is **arange** which creates a uni-dimensional array with each element having its ordinal value starting from 0."
   ]
  },
  {
   "cell_type": "code",
   "execution_count": 9,
   "metadata": {},
   "outputs": [
    {
     "name": "stdout",
     "output_type": "stream",
     "text": [
      "[0 1 2 3 4 5 6 7 8 9]\n"
     ]
    }
   ],
   "source": [
    "x_1d_arange = np.arange(10)\n",
    "print(x_1d_arange)"
   ]
  },
  {
   "cell_type": "markdown",
   "metadata": {},
   "source": [
    "Another useful function is **empty** which creates arrays with non-initialized content and various dimensions. "
   ]
  },
  {
   "cell_type": "code",
   "execution_count": 10,
   "metadata": {},
   "outputs": [
    {
     "name": "stdout",
     "output_type": "stream",
     "text": [
      "[6.03108763e-154 7.71112743e+140 1.75300477e+243 4.54418346e+174\n",
      " 3.68423986e+180 9.92169729e+247 4.78111609e+180 1.02124020e+277\n",
      " 4.54814392e-144 6.06003395e+233]\n"
     ]
    }
   ],
   "source": [
    "x_1d_empty = np.empty(10)\n",
    "print(x_1d_empty)"
   ]
  },
  {
   "cell_type": "code",
   "execution_count": 11,
   "metadata": {},
   "outputs": [
    {
     "name": "stdout",
     "output_type": "stream",
     "text": [
      "[[4.94065646e-324 4.68405949e-310 4.68388131e-310 6.90635770e-310\n",
      "  6.90624750e-310 9.88131292e-324 4.94065646e-324 1.38338381e-322\n",
      "  6.90637403e-310 6.90624750e-310]\n",
      " [4.94065646e-324 2.75859453e-313 2.75859453e-313 4.68405949e-310\n",
      "  6.90637494e-310 6.90624750e-310 2.75859453e-313 4.94065646e-324\n",
      "  4.68405949e-310 9.88131292e-324]\n",
      " [4.68405949e-310 4.68405949e-310 8.39911598e-323 4.68405856e-310\n",
      "  4.68405949e-310 8.39911598e-323 4.88059032e-313 6.90624750e-310\n",
      "  4.68405856e-310 4.88059032e-313]\n",
      " [8.39911598e-323 5.51718906e-313 4.68388131e-310 6.90635770e-310\n",
      "  5.51718906e-313 1.48219694e-322 4.88059032e-313 0.00000000e+000\n",
      "  0.00000000e+000 4.88059032e-313]\n",
      " [4.68405949e-310 4.68405949e-310 4.68405949e-310 2.75859453e-313\n",
      "  2.75859453e-313 4.68405949e-310 4.68405949e-310 4.68405949e-310\n",
      "  0.00000000e+000 0.00000000e+000]\n",
      " [4.94065646e-324 4.94065646e-324 4.68405949e-310 6.90637579e-310\n",
      "  4.94065646e-324 6.90635770e-310 9.88131292e-324 4.94065646e-324\n",
      "  4.68405949e-310 0.00000000e+000]\n",
      " [0.00000000e+000 1.38338381e-322 6.90635770e-310             nan\n",
      "  0.00000000e+000 1.27319747e-313 7.90505033e-323 4.68405949e-310\n",
      "  4.68405949e-310 4.68405949e-310]\n",
      " [9.88131292e-324 1.08694442e-322 4.68405949e-310 0.00000000e+000\n",
      "  4.94065646e-324 0.00000000e+000 0.00000000e+000 9.88131292e-324\n",
      "  4.94065646e-324 4.68405949e-310]\n",
      " [0.00000000e+000 0.00000000e+000 0.00000000e+000 0.00000000e+000\n",
      "  0.00000000e+000 0.00000000e+000 0.00000000e+000 0.00000000e+000\n",
      "  0.00000000e+000 0.00000000e+000]\n",
      " [0.00000000e+000 0.00000000e+000 0.00000000e+000 0.00000000e+000\n",
      "  0.00000000e+000 0.00000000e+000 0.00000000e+000 0.00000000e+000\n",
      "  0.00000000e+000 0.00000000e+000]]\n"
     ]
    }
   ],
   "source": [
    "x_2d_empty = np.empty((10,10))\n",
    "print(x_2d_empty)"
   ]
  },
  {
   "cell_type": "markdown",
   "metadata": {},
   "source": [
    "The **zeros** function can be used to create arrays initialized with 0 values: "
   ]
  },
  {
   "cell_type": "code",
   "execution_count": 12,
   "metadata": {},
   "outputs": [
    {
     "name": "stdout",
     "output_type": "stream",
     "text": [
      "[0. 0. 0. 0. 0. 0. 0. 0. 0. 0.]\n"
     ]
    }
   ],
   "source": [
    "x_1d_zeros = np.zeros(10)\n",
    "print(x_1d_zeros)"
   ]
  },
  {
   "cell_type": "code",
   "execution_count": 13,
   "metadata": {},
   "outputs": [
    {
     "name": "stdout",
     "output_type": "stream",
     "text": [
      "[[0. 0. 0. 0. 0. 0. 0. 0. 0. 0.]\n",
      " [0. 0. 0. 0. 0. 0. 0. 0. 0. 0.]\n",
      " [0. 0. 0. 0. 0. 0. 0. 0. 0. 0.]\n",
      " [0. 0. 0. 0. 0. 0. 0. 0. 0. 0.]\n",
      " [0. 0. 0. 0. 0. 0. 0. 0. 0. 0.]\n",
      " [0. 0. 0. 0. 0. 0. 0. 0. 0. 0.]\n",
      " [0. 0. 0. 0. 0. 0. 0. 0. 0. 0.]\n",
      " [0. 0. 0. 0. 0. 0. 0. 0. 0. 0.]\n",
      " [0. 0. 0. 0. 0. 0. 0. 0. 0. 0.]\n",
      " [0. 0. 0. 0. 0. 0. 0. 0. 0. 0.]]\n"
     ]
    }
   ],
   "source": [
    "x_2d_zeros = np.zeros((10,10))\n",
    "print(x_2d_zeros)"
   ]
  },
  {
   "cell_type": "markdown",
   "metadata": {},
   "source": [
    "The **ones** function behaves like **zeros** functions but initializes the array with 1 values. "
   ]
  },
  {
   "cell_type": "markdown",
   "metadata": {},
   "source": [
    "The **full** function creates arrays initialized with a specific value and various dimensions:"
   ]
  },
  {
   "cell_type": "code",
   "execution_count": 14,
   "metadata": {},
   "outputs": [
    {
     "name": "stdout",
     "output_type": "stream",
     "text": [
      "[-1 -1 -1 -1 -1 -1 -1 -1 -1 -1]\n"
     ]
    }
   ],
   "source": [
    "x_1d_full = np.full(10, -1)\n",
    "print(x_1d_full)"
   ]
  },
  {
   "cell_type": "code",
   "execution_count": 15,
   "metadata": {},
   "outputs": [
    {
     "name": "stdout",
     "output_type": "stream",
     "text": [
      "[[-1 -1 -1 -1 -1 -1 -1 -1 -1 -1]\n",
      " [-1 -1 -1 -1 -1 -1 -1 -1 -1 -1]\n",
      " [-1 -1 -1 -1 -1 -1 -1 -1 -1 -1]\n",
      " [-1 -1 -1 -1 -1 -1 -1 -1 -1 -1]\n",
      " [-1 -1 -1 -1 -1 -1 -1 -1 -1 -1]\n",
      " [-1 -1 -1 -1 -1 -1 -1 -1 -1 -1]\n",
      " [-1 -1 -1 -1 -1 -1 -1 -1 -1 -1]\n",
      " [-1 -1 -1 -1 -1 -1 -1 -1 -1 -1]\n",
      " [-1 -1 -1 -1 -1 -1 -1 -1 -1 -1]\n",
      " [-1 -1 -1 -1 -1 -1 -1 -1 -1 -1]]\n"
     ]
    }
   ],
   "source": [
    "x_2d_full = np.full((10,10), -1)\n",
    "print(x_2d_full)"
   ]
  },
  {
   "cell_type": "markdown",
   "metadata": {},
   "source": [
    "An array can be also created with random-initialized content by using **random** function from **numpy.random** package:"
   ]
  },
  {
   "cell_type": "code",
   "execution_count": 16,
   "metadata": {},
   "outputs": [
    {
     "name": "stdout",
     "output_type": "stream",
     "text": [
      "[0.9053159  0.76974874 0.09796614 0.08311121 0.13403076 0.52957888\n",
      " 0.83403945 0.69404494 0.13789909 0.9917339 ]\n"
     ]
    }
   ],
   "source": [
    "x_1d_random = np.random.random(10)\n",
    "print(x_1d_random)"
   ]
  },
  {
   "cell_type": "code",
   "execution_count": 17,
   "metadata": {},
   "outputs": [
    {
     "name": "stdout",
     "output_type": "stream",
     "text": [
      "[[0.33568144 0.65141617 0.15993618 0.22822906 0.64112021 0.47787736\n",
      "  0.3107714  0.53102733 0.04266237 0.62424745]\n",
      " [0.82318182 0.83414844 0.34948302 0.81050698 0.20405718 0.769678\n",
      "  0.67638253 0.9380841  0.24102267 0.39765265]\n",
      " [0.1531598  0.44083557 0.57833743 0.67272764 0.34683191 0.10909229\n",
      "  0.94246082 0.40654559 0.13463615 0.49914606]\n",
      " [0.4350001  0.11742767 0.69463171 0.26848705 0.53822041 0.5032543\n",
      "  0.38642441 0.10284797 0.09546903 0.34067333]\n",
      " [0.23086148 0.95510808 0.87085437 0.79765474 0.88542412 0.26226078\n",
      "  0.18167273 0.09524712 0.79230811 0.35708398]\n",
      " [0.03169965 0.72073481 0.03521598 0.0462943  0.83985041 0.26715293\n",
      "  0.57874001 0.8129583  0.38886646 0.20622666]\n",
      " [0.26254713 0.87751504 0.84624683 0.46785751 0.75832074 0.81780562\n",
      "  0.06932535 0.65965595 0.85185072 0.37351794]\n",
      " [0.65611187 0.71598964 0.33271588 0.24689241 0.50908711 0.90690024\n",
      "  0.17397059 0.27446074 0.63628767 0.59757672]\n",
      " [0.04907947 0.09231148 0.77872111 0.97095529 0.28337116 0.33839897\n",
      "  0.13678137 0.4940903  0.80861421 0.8346292 ]\n",
      " [0.68050274 0.57034419 0.16027305 0.91965096 0.52475483 0.03686722\n",
      "  0.90284044 0.32040887 0.44512578 0.70620655]]\n"
     ]
    }
   ],
   "source": [
    "x_2d_random = np.random.random((10, 10))\n",
    "print(x_2d_random)"
   ]
  },
  {
   "cell_type": "markdown",
   "metadata": {},
   "source": [
    "## 3. Creating via data loading"
   ]
  },
  {
   "cell_type": "markdown",
   "metadata": {},
   "source": [
    "Numpy allows loading text-based data (in principle CSV data) via the **loadtxt** function. This function allows specification of the parameters for loading operation such as: rows to be skipped, the data delimiter or a complex numpy type to be associated with the data. "
   ]
  },
  {
   "cell_type": "code",
   "execution_count": 18,
   "metadata": {},
   "outputs": [],
   "source": [
    "# import packages for remote data load\n",
    "import requests\n",
    "import io\n",
    "\n",
    "# read data remotely\n",
    "data_url = \"https://raw.githubusercontent.com/INTERTECHNICA-BUSINESS-SOLUTIONS-SRL/Applying-Python-in-Machine-Learning/master/notebooks/numpy_002_creating_arrays_happines_rank_2020.csv\"\n",
    "response = requests.get(data_url)\n",
    "\n",
    "# load the string data into a record array\n",
    "loaded_data = np.loadtxt(\n",
    "    io.StringIO(response.text), \n",
    "    skiprows = 1, \n",
    "    delimiter = \",\", \n",
    "    dtype = {\"names\" : (\"Country\", \"Rank\", \"Score\", \"Population\"),\n",
    "            \"formats\": (\"U20\", \"int8\", \"float16\", \"float32\")}\n",
    ")"
   ]
  },
  {
   "cell_type": "code",
   "execution_count": 19,
   "metadata": {},
   "outputs": [
    {
     "name": "stdout",
     "output_type": "stream",
     "text": [
      "(152,)\n"
     ]
    }
   ],
   "source": [
    "print(loaded_data.shape)"
   ]
  },
  {
   "cell_type": "code",
   "execution_count": 20,
   "metadata": {},
   "outputs": [
    {
     "name": "stdout",
     "output_type": "stream",
     "text": [
      "('Finland', 1, 7.77, 5540.72)\n"
     ]
    }
   ],
   "source": [
    "print(loaded_data[0])"
   ]
  },
  {
   "cell_type": "code",
   "execution_count": 21,
   "metadata": {},
   "outputs": [
    {
     "name": "stdout",
     "output_type": "stream",
     "text": [
      "['Finland' 'Denmark' 'Norway' 'Iceland' 'Netherlands' 'Switzerland'\n",
      " 'Sweden' 'New Zealand' 'Canada' 'Austria' 'Australia' 'Costa Rica'\n",
      " 'Israel' 'Luxembourg' 'United Kingdom' 'Ireland' 'Germany' 'Belgium'\n",
      " 'United States' 'Czech Republic' 'United Arab Emirates' 'Malta' 'Mexico'\n",
      " 'France' 'Taiwan' 'Chile' 'Guatemala' 'Saudi Arabia' 'Qatar' 'Spain'\n",
      " 'Panama' 'Brazil' 'Uruguay' 'Singapore' 'El Salvador' 'Italy' 'Bahrain'\n",
      " 'Slovakia' 'Trinidad and Tobago' 'Poland' 'Uzbekistan' 'Lithuania'\n",
      " 'Colombia' 'Slovenia' 'Nicaragua' 'Argentina' 'Romania' 'Ecuador'\n",
      " 'Kuwait' 'Thailand' 'Latvia' 'South Korea' 'Estonia' 'Jamaica'\n",
      " 'Mauritius' 'Japan' 'Honduras' 'Kazakhstan' 'Bolivia' 'Hungary'\n",
      " 'Paraguay' 'Cyprus' 'Peru' 'Portugal' 'Pakistan' 'Russia' 'Philippines'\n",
      " 'Serbia' 'Moldova' 'Libya' 'Montenegro' 'Tajikistan' 'Croatia'\n",
      " 'Hong Kong' 'Dominican Republic' 'Bosnia and Herzegovi' 'Turkey'\n",
      " 'Malaysia' 'Belarus' 'Greece' 'Mongolia' 'Nigeria' 'Kyrgyzstan'\n",
      " 'Turkmenistan' 'Algeria' 'Morocco' 'Azerbaijan' 'Lebanon' 'Indonesia'\n",
      " 'China' 'Vietnam' 'Bhutan' 'Cameroon' 'Bulgaria' 'Ghana' 'Ivory Coast'\n",
      " 'Nepal' 'Jordan' 'Benin' 'Republic of the Cong' 'Gabon' 'Laos'\n",
      " 'South Africa' 'Albania' 'Venezuela' 'Cambodia' 'Palestine' 'Senegal'\n",
      " 'Somalia' 'Namibia' 'Niger' 'Burkina Faso' 'Armenia' 'Iran' 'Guinea'\n",
      " 'Georgia' 'Gambia' 'Kenya' 'Mauritania' 'Mozambique' 'Tunisia'\n",
      " 'Bangladesh' 'Iraq' 'DR Congo' 'Mali' 'Sierra Leone' 'Sri Lanka'\n",
      " 'Myanmar' 'Chad' 'Ukraine' 'Ethiopia' 'Uganda' 'Egypt' 'Zambia' 'Togo'\n",
      " 'India' 'Liberia' 'Comoros' 'Madagascar' 'Lesotho' 'Burundi' 'Zimbabwe'\n",
      " 'Haiti' 'Botswana' 'Syria' 'Malawi' 'Yemen' 'Rwanda' 'Tanzania'\n",
      " 'Afghanistan' 'Central African Repu' 'South Sudan']\n"
     ]
    }
   ],
   "source": [
    "print(loaded_data[\"Country\"])"
   ]
  },
  {
   "cell_type": "code",
   "execution_count": 22,
   "metadata": {},
   "outputs": [
    {
     "name": "stdout",
     "output_type": "stream",
     "text": [
      "South Sudan\n"
     ]
    }
   ],
   "source": [
    "print(loaded_data[-1][\"Country\"])"
   ]
  }
 ],
 "metadata": {
  "kernelspec": {
   "display_name": "Python 3",
   "language": "python",
   "name": "python3"
  },
  "language_info": {
   "codemirror_mode": {
    "name": "ipython",
    "version": 3
   },
   "file_extension": ".py",
   "mimetype": "text/x-python",
   "name": "python",
   "nbconvert_exporter": "python",
   "pygments_lexer": "ipython3",
   "version": "3.7.3"
  }
 },
 "nbformat": 4,
 "nbformat_minor": 2
}
