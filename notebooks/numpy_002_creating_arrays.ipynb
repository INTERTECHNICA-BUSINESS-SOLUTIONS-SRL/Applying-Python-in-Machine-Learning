{
 "cells": [
  {
   "cell_type": "markdown",
   "metadata": {},
   "source": [
    "![*INTERTECHNICA - SOLON EDUCATIONAL PROGRAMS - TECHNOLOGY LINE*](https://solon.intertechnica.com/assets/IntertechnicaSolonEducationalPrograms-TechnologyLine.png)"
   ]
  },
  {
   "cell_type": "markdown",
   "metadata": {},
   "source": [
    "# Python for Data Processing - Creating Arrays"
   ]
  },
  {
   "cell_type": "markdown",
   "metadata": {},
   "source": [
    "*Numpy allows various methods for creating arrays starting from creation using basic types to loading data from external sources*."
   ]
  },
  {
   "cell_type": "markdown",
   "metadata": {},
   "source": [
    "Initializing environment for machine learning use:"
   ]
  },
  {
   "cell_type": "code",
   "execution_count": 1,
   "metadata": {},
   "outputs": [
    {
     "name": "stdout",
     "output_type": "stream",
     "text": [
      "Requirement already satisfied: numpy in /home/marin/anaconda3/lib/python3.7/site-packages (1.16.2)\r\n"
     ]
    }
   ],
   "source": [
    "!python -m pip install numpy"
   ]
  },
  {
   "cell_type": "markdown",
   "metadata": {},
   "source": [
    "## 1. Creating from arrays and lists"
   ]
  },
  {
   "cell_type": "markdown",
   "metadata": {},
   "source": [
    "An array can be created from simple Python arrays:"
   ]
  },
  {
   "cell_type": "code",
   "execution_count": 2,
   "metadata": {},
   "outputs": [],
   "source": [
    "import numpy as np"
   ]
  },
  {
   "cell_type": "code",
   "execution_count": 3,
   "metadata": {},
   "outputs": [
    {
     "name": "stdout",
     "output_type": "stream",
     "text": [
      "[ 1  2  3  4  5  6  7  8  9 10]\n"
     ]
    }
   ],
   "source": [
    "x_1d = np.array([ 1,   2,   3,   4,   5,   6,   7,   8,   9,  10])\n",
    "print(x_1d)"
   ]
  },
  {
   "cell_type": "code",
   "execution_count": 4,
   "metadata": {},
   "outputs": [
    {
     "name": "stdout",
     "output_type": "stream",
     "text": [
      "[[  1   2   3   4   5   6   7   8   9  10]\n",
      " [ 11  12  13  14  15  16  17  18  19  20]\n",
      " [ 21  22  23  24  25  26  27  28  29  30]\n",
      " [ 31  32  33  34  35  36  37  38  39  40]\n",
      " [ 41  42  43  44  45  46  47  48  49  50]\n",
      " [ 51  52  53  54  55  56  57  58  59  60]\n",
      " [ 61  62  63  64  65  66  67  68  69  70]\n",
      " [ 71  72  73  74  75  76  77  78  79  80]\n",
      " [ 81  82  83  84  85  86  87  88  89  90]\n",
      " [ 91  92  93  94  95  96  97  98  99 100]]\n"
     ]
    }
   ],
   "source": [
    "x_2d = np.array(\n",
    "      [[  1,   2,   3,   4,   5,   6,   7,   8,   9,  10],\n",
    "       [ 11,  12,  13,  14,  15,  16,  17,  18,  19,  20],\n",
    "       [ 21,  22,  23,  24,  25,  26,  27,  28,  29,  30],\n",
    "       [ 31,  32,  33,  34,  35,  36,  37,  38,  39,  40],\n",
    "       [ 41,  42,  43,  44,  45,  46,  47,  48,  49,  50],\n",
    "       [ 51,  52,  53,  54,  55,  56,  57,  58,  59,  60],\n",
    "       [ 61,  62,  63,  64,  65,  66,  67,  68,  69,  70],\n",
    "       [ 71,  72,  73,  74,  75,  76,  77,  78,  79,  80],\n",
    "       [ 81,  82,  83,  84,  85,  86,  87,  88,  89,  90],\n",
    "       [ 91,  92,  93,  94,  95,  96,  97,  98,  99, 100]])\n",
    "\n",
    "print(x_2d)"
   ]
  },
  {
   "cell_type": "markdown",
   "metadata": {},
   "source": [
    "Numpy also allows creation of arrays from lists:"
   ]
  },
  {
   "cell_type": "code",
   "execution_count": 5,
   "metadata": {},
   "outputs": [],
   "source": [
    "x_1d_list = np.array(( 1,   2,   3,   4,   5,   6,   7,   8,   9,  10))"
   ]
  },
  {
   "cell_type": "markdown",
   "metadata": {},
   "source": [
    "By using lists it is possible to create **arrays of complex types** as well:"
   ]
  },
  {
   "cell_type": "code",
   "execution_count": 6,
   "metadata": {},
   "outputs": [
    {
     "name": "stdout",
     "output_type": "stream",
     "text": [
      "[('One', 1) ('Two', 2) ('Three', 3)]\n"
     ]
    }
   ],
   "source": [
    "x_1d_complex = np.array(\n",
    "    [(\"One\", 1), (\"Two\", 2), (\"Three\", 3)],\n",
    "    dtype=[(\"Literal Form\", \"U10\"), (\"Numeric Value\", \"i1\")])\n",
    "\n",
    "print(x_1d_complex)"
   ]
  },
  {
   "cell_type": "code",
   "execution_count": 7,
   "metadata": {},
   "outputs": [
    {
     "name": "stdout",
     "output_type": "stream",
     "text": [
      "['One' 'Two' 'Three']\n"
     ]
    }
   ],
   "source": [
    "print(x_1d_complex[\"Literal Form\"])"
   ]
  },
  {
   "cell_type": "code",
   "execution_count": 8,
   "metadata": {},
   "outputs": [
    {
     "name": "stdout",
     "output_type": "stream",
     "text": [
      "[1 2 3]\n"
     ]
    }
   ],
   "source": [
    "print(x_1d_complex[\"Numeric Value\"])"
   ]
  },
  {
   "cell_type": "markdown",
   "metadata": {},
   "source": [
    "## 2. Creating via dedicated functions"
   ]
  },
  {
   "cell_type": "markdown",
   "metadata": {},
   "source": [
    "Numpy allows creation of arrays using dedicated numpy functions."
   ]
  },
  {
   "cell_type": "markdown",
   "metadata": {},
   "source": [
    "One of these functions is **arange** which creates a uni-dimensional array with each element having its ordinal value starting from 0."
   ]
  },
  {
   "cell_type": "code",
   "execution_count": 9,
   "metadata": {},
   "outputs": [
    {
     "name": "stdout",
     "output_type": "stream",
     "text": [
      "[0 1 2 3 4 5 6 7 8 9]\n"
     ]
    }
   ],
   "source": [
    "x_1d_arange = np.arange(10)\n",
    "print(x_1d_arange)"
   ]
  },
  {
   "cell_type": "markdown",
   "metadata": {},
   "source": [
    "Another useful function is **empty** which creates arrays with non-initialized content and various dimensions. "
   ]
  },
  {
   "cell_type": "code",
   "execution_count": 10,
   "metadata": {},
   "outputs": [
    {
     "name": "stdout",
     "output_type": "stream",
     "text": [
      "[3.69929606e-033 1.10553748e-046 1.73681700e-047 9.14033447e-043\n",
      " 5.01163104e+217 5.49419094e-143 9.80058441e+252 1.30304358e-142\n",
      " 2.14027814e+161 9.29590747e+242]\n"
     ]
    }
   ],
   "source": [
    "x_1d_empty = np.empty(10)\n",
    "print(x_1d_empty)"
   ]
  },
  {
   "cell_type": "code",
   "execution_count": 11,
   "metadata": {},
   "outputs": [
    {
     "name": "stdout",
     "output_type": "stream",
     "text": [
      "[[6.91537208e-310 9.88131292e-324 4.94065646e-324 1.38338381e-322\n",
      "  6.91538752e-310 6.91537208e-310 4.94065646e-324 2.75859453e-313\n",
      "  2.75859453e-313 4.64333467e-310]\n",
      " [6.91538843e-310 6.91537208e-310 2.75859453e-313 4.94065646e-324\n",
      "  4.64333467e-310 9.88131292e-324 4.64333467e-310 4.64333467e-310\n",
      "  8.39911598e-323 4.64333276e-310]\n",
      " [4.64333467e-310 8.39911598e-323 4.88059032e-313 6.91515988e-310\n",
      "  4.64333276e-310 4.88059032e-313 8.39911598e-323 5.51718906e-313\n",
      "  4.64313899e-310 6.91536456e-310]\n",
      " [5.51718906e-313 1.48219694e-322 4.88059032e-313 0.00000000e+000\n",
      "  0.00000000e+000 4.88059032e-313 4.64333467e-310 4.64333467e-310\n",
      "  4.64333467e-310 2.75859453e-313]\n",
      " [2.75859453e-313 4.64333467e-310 4.64333467e-310 4.64333467e-310\n",
      "  0.00000000e+000 0.00000000e+000 4.94065646e-324 4.94065646e-324\n",
      "  4.64333467e-310 6.91538928e-310]\n",
      " [4.94065646e-324 6.91536456e-310 9.88131292e-324 4.94065646e-324\n",
      "  4.64333467e-310 0.00000000e+000 0.00000000e+000 1.38338381e-322\n",
      "  6.91538209e-310             nan]\n",
      " [0.00000000e+000 1.27319747e-313 7.90505033e-323 4.64333467e-310\n",
      "  4.64333467e-310 4.64333467e-310 9.88131292e-324 1.08694442e-322\n",
      "  4.64333467e-310 0.00000000e+000]\n",
      " [4.94065646e-324 0.00000000e+000 0.00000000e+000 9.88131292e-324\n",
      "  4.94065646e-324 4.64333467e-310 0.00000000e+000 0.00000000e+000\n",
      "  0.00000000e+000 0.00000000e+000]\n",
      " [0.00000000e+000 0.00000000e+000 0.00000000e+000 0.00000000e+000\n",
      "  0.00000000e+000 0.00000000e+000 0.00000000e+000 0.00000000e+000\n",
      "  0.00000000e+000 0.00000000e+000]\n",
      " [0.00000000e+000 0.00000000e+000 0.00000000e+000 0.00000000e+000\n",
      "  0.00000000e+000 0.00000000e+000 0.00000000e+000 0.00000000e+000\n",
      "  0.00000000e+000 0.00000000e+000]]\n"
     ]
    }
   ],
   "source": [
    "x_2d_empty = np.empty((10,10))\n",
    "print(x_2d_empty)"
   ]
  },
  {
   "cell_type": "markdown",
   "metadata": {},
   "source": [
    "The **zeros** function can be used to create arrays initialized with 0 values: "
   ]
  },
  {
   "cell_type": "code",
   "execution_count": 12,
   "metadata": {},
   "outputs": [
    {
     "name": "stdout",
     "output_type": "stream",
     "text": [
      "[0. 0. 0. 0. 0. 0. 0. 0. 0. 0.]\n"
     ]
    }
   ],
   "source": [
    "x_1d_zeros = np.zeros(10)\n",
    "print(x_1d_zeros)"
   ]
  },
  {
   "cell_type": "code",
   "execution_count": 13,
   "metadata": {},
   "outputs": [
    {
     "name": "stdout",
     "output_type": "stream",
     "text": [
      "[[0. 0. 0. 0. 0. 0. 0. 0. 0. 0.]\n",
      " [0. 0. 0. 0. 0. 0. 0. 0. 0. 0.]\n",
      " [0. 0. 0. 0. 0. 0. 0. 0. 0. 0.]\n",
      " [0. 0. 0. 0. 0. 0. 0. 0. 0. 0.]\n",
      " [0. 0. 0. 0. 0. 0. 0. 0. 0. 0.]\n",
      " [0. 0. 0. 0. 0. 0. 0. 0. 0. 0.]\n",
      " [0. 0. 0. 0. 0. 0. 0. 0. 0. 0.]\n",
      " [0. 0. 0. 0. 0. 0. 0. 0. 0. 0.]\n",
      " [0. 0. 0. 0. 0. 0. 0. 0. 0. 0.]\n",
      " [0. 0. 0. 0. 0. 0. 0. 0. 0. 0.]]\n"
     ]
    }
   ],
   "source": [
    "x_2d_zeros = np.zeros((10,10))\n",
    "print(x_2d_zeros)"
   ]
  },
  {
   "cell_type": "markdown",
   "metadata": {},
   "source": [
    "The **ones** function behaves like **zeros** functions but initializes the array with 1 values. "
   ]
  },
  {
   "cell_type": "markdown",
   "metadata": {},
   "source": [
    "The **full** function creates arrays initialized with a specific value and various dimensions:"
   ]
  },
  {
   "cell_type": "code",
   "execution_count": 14,
   "metadata": {},
   "outputs": [
    {
     "name": "stdout",
     "output_type": "stream",
     "text": [
      "[-1 -1 -1 -1 -1 -1 -1 -1 -1 -1]\n"
     ]
    }
   ],
   "source": [
    "x_1d_full = np.full(10, -1)\n",
    "print(x_1d_full)"
   ]
  },
  {
   "cell_type": "code",
   "execution_count": 15,
   "metadata": {},
   "outputs": [
    {
     "name": "stdout",
     "output_type": "stream",
     "text": [
      "[[-1 -1 -1 -1 -1 -1 -1 -1 -1 -1]\n",
      " [-1 -1 -1 -1 -1 -1 -1 -1 -1 -1]\n",
      " [-1 -1 -1 -1 -1 -1 -1 -1 -1 -1]\n",
      " [-1 -1 -1 -1 -1 -1 -1 -1 -1 -1]\n",
      " [-1 -1 -1 -1 -1 -1 -1 -1 -1 -1]\n",
      " [-1 -1 -1 -1 -1 -1 -1 -1 -1 -1]\n",
      " [-1 -1 -1 -1 -1 -1 -1 -1 -1 -1]\n",
      " [-1 -1 -1 -1 -1 -1 -1 -1 -1 -1]\n",
      " [-1 -1 -1 -1 -1 -1 -1 -1 -1 -1]\n",
      " [-1 -1 -1 -1 -1 -1 -1 -1 -1 -1]]\n"
     ]
    }
   ],
   "source": [
    "x_2d_full = np.full((10,10), -1)\n",
    "print(x_2d_full)"
   ]
  },
  {
   "cell_type": "markdown",
   "metadata": {},
   "source": [
    "An array can be also created with random-initialized content by using **random** function from **numpy.random** package:"
   ]
  },
  {
   "cell_type": "code",
   "execution_count": 16,
   "metadata": {},
   "outputs": [
    {
     "name": "stdout",
     "output_type": "stream",
     "text": [
      "[0.04303317 0.31710633 0.40408887 0.77882259 0.46758117 0.71016737\n",
      " 0.81130166 0.64212128 0.92576775 0.43471076]\n"
     ]
    }
   ],
   "source": [
    "x_1d_random = np.random.random(10)\n",
    "print(x_1d_random)"
   ]
  },
  {
   "cell_type": "code",
   "execution_count": 17,
   "metadata": {},
   "outputs": [
    {
     "name": "stdout",
     "output_type": "stream",
     "text": [
      "[[0.54834111 0.21788422 0.50459118 0.51592741 0.45142174 0.62521712\n",
      "  0.09501313 0.45475236 0.88382963 0.87382058]\n",
      " [0.72625776 0.8899127  0.47796235 0.33961821 0.22857085 0.95907264\n",
      "  0.10297234 0.15312213 0.73921327 0.20523489]\n",
      " [0.8016268  0.84449422 0.71989535 0.30135064 0.36957848 0.88956218\n",
      "  0.12520935 0.39864971 0.22173271 0.14421549]\n",
      " [0.70106214 0.60807758 0.49377785 0.18919069 0.6889121  0.07565877\n",
      "  0.56670813 0.65346731 0.69254836 0.95936245]\n",
      " [0.22265603 0.94846024 0.13662527 0.8881592  0.51837143 0.37423403\n",
      "  0.80740152 0.34124393 0.0552093  0.84004056]\n",
      " [0.07760896 0.95070096 0.84462782 0.88546082 0.49372727 0.67378192\n",
      "  0.19729928 0.3858644  0.2161782  0.18501099]\n",
      " [0.56550659 0.43924628 0.91906861 0.43988317 0.46684308 0.98834589\n",
      "  0.13145364 0.23934865 0.34957003 0.63238829]\n",
      " [0.68239    0.08321116 0.42386588 0.64545973 0.36727261 0.7952752\n",
      "  0.90359897 0.92808859 0.88973901 0.75892394]\n",
      " [0.54508515 0.23474278 0.29910341 0.92100936 0.68658713 0.71020611\n",
      "  0.45570278 0.46346306 0.00176062 0.89765631]\n",
      " [0.92812694 0.71302888 0.82622352 0.24259266 0.27552453 0.36719444\n",
      "  0.67090065 0.05723569 0.66495855 0.93207664]]\n"
     ]
    }
   ],
   "source": [
    "x_2d_random = np.random.random((10, 10))\n",
    "print(x_2d_random)"
   ]
  },
  {
   "cell_type": "markdown",
   "metadata": {},
   "source": [
    "## 3. Creating via data loading"
   ]
  },
  {
   "cell_type": "markdown",
   "metadata": {},
   "source": [
    "Numpy allows loading text-based data (in principle CSV data) via the **loadtxt** function. This function allows specification of the parameters for loading operation such as: rows to be skipped, the data delimiter or a complex numpy type to be associated with the data. "
   ]
  },
  {
   "cell_type": "code",
   "execution_count": 18,
   "metadata": {},
   "outputs": [],
   "source": [
    "# import packages for remote data load\n",
    "import requests\n",
    "import io\n",
    "\n",
    "# read data remotely\n",
    "data_url = \"https://raw.githubusercontent.com/INTERTECHNICA-BUSINESS-SOLUTIONS-SRL/Applying-Python-in-Machine-Learning/master/notebooks/data/numpy_002_creating_arrays_happines_rank_2020.csv\"\n",
    "response = requests.get(data_url)\n",
    "\n",
    "# load the string data into a record array\n",
    "loaded_data = np.loadtxt(\n",
    "    io.StringIO(response.text), \n",
    "    skiprows = 1, \n",
    "    delimiter = \",\", \n",
    "    dtype = {\"names\" : (\"Country\", \"Rank\", \"Score\", \"Population\"),\n",
    "            \"formats\": (\"U20\", \"int8\", \"float16\", \"float32\")}\n",
    ")"
   ]
  },
  {
   "cell_type": "code",
   "execution_count": 19,
   "metadata": {},
   "outputs": [
    {
     "name": "stdout",
     "output_type": "stream",
     "text": [
      "(152,)\n"
     ]
    }
   ],
   "source": [
    "print(loaded_data.shape)"
   ]
  },
  {
   "cell_type": "code",
   "execution_count": 20,
   "metadata": {},
   "outputs": [
    {
     "name": "stdout",
     "output_type": "stream",
     "text": [
      "('Finland', 1, 7.77, 5540.72)\n"
     ]
    }
   ],
   "source": [
    "print(loaded_data[0])"
   ]
  },
  {
   "cell_type": "code",
   "execution_count": 21,
   "metadata": {},
   "outputs": [
    {
     "name": "stdout",
     "output_type": "stream",
     "text": [
      "['Finland' 'Denmark' 'Norway' 'Iceland' 'Netherlands' 'Switzerland'\n",
      " 'Sweden' 'New Zealand' 'Canada' 'Austria' 'Australia' 'Costa Rica'\n",
      " 'Israel' 'Luxembourg' 'United Kingdom' 'Ireland' 'Germany' 'Belgium'\n",
      " 'United States' 'Czech Republic' 'United Arab Emirates' 'Malta' 'Mexico'\n",
      " 'France' 'Taiwan' 'Chile' 'Guatemala' 'Saudi Arabia' 'Qatar' 'Spain'\n",
      " 'Panama' 'Brazil' 'Uruguay' 'Singapore' 'El Salvador' 'Italy' 'Bahrain'\n",
      " 'Slovakia' 'Trinidad and Tobago' 'Poland' 'Uzbekistan' 'Lithuania'\n",
      " 'Colombia' 'Slovenia' 'Nicaragua' 'Argentina' 'Romania' 'Ecuador'\n",
      " 'Kuwait' 'Thailand' 'Latvia' 'South Korea' 'Estonia' 'Jamaica'\n",
      " 'Mauritius' 'Japan' 'Honduras' 'Kazakhstan' 'Bolivia' 'Hungary'\n",
      " 'Paraguay' 'Cyprus' 'Peru' 'Portugal' 'Pakistan' 'Russia' 'Philippines'\n",
      " 'Serbia' 'Moldova' 'Libya' 'Montenegro' 'Tajikistan' 'Croatia'\n",
      " 'Hong Kong' 'Dominican Republic' 'Bosnia and Herzegovi' 'Turkey'\n",
      " 'Malaysia' 'Belarus' 'Greece' 'Mongolia' 'Nigeria' 'Kyrgyzstan'\n",
      " 'Turkmenistan' 'Algeria' 'Morocco' 'Azerbaijan' 'Lebanon' 'Indonesia'\n",
      " 'China' 'Vietnam' 'Bhutan' 'Cameroon' 'Bulgaria' 'Ghana' 'Ivory Coast'\n",
      " 'Nepal' 'Jordan' 'Benin' 'Republic of the Cong' 'Gabon' 'Laos'\n",
      " 'South Africa' 'Albania' 'Venezuela' 'Cambodia' 'Palestine' 'Senegal'\n",
      " 'Somalia' 'Namibia' 'Niger' 'Burkina Faso' 'Armenia' 'Iran' 'Guinea'\n",
      " 'Georgia' 'Gambia' 'Kenya' 'Mauritania' 'Mozambique' 'Tunisia'\n",
      " 'Bangladesh' 'Iraq' 'DR Congo' 'Mali' 'Sierra Leone' 'Sri Lanka'\n",
      " 'Myanmar' 'Chad' 'Ukraine' 'Ethiopia' 'Uganda' 'Egypt' 'Zambia' 'Togo'\n",
      " 'India' 'Liberia' 'Comoros' 'Madagascar' 'Lesotho' 'Burundi' 'Zimbabwe'\n",
      " 'Haiti' 'Botswana' 'Syria' 'Malawi' 'Yemen' 'Rwanda' 'Tanzania'\n",
      " 'Afghanistan' 'Central African Repu' 'South Sudan']\n"
     ]
    }
   ],
   "source": [
    "print(loaded_data[\"Country\"])"
   ]
  },
  {
   "cell_type": "code",
   "execution_count": 22,
   "metadata": {},
   "outputs": [
    {
     "name": "stdout",
     "output_type": "stream",
     "text": [
      "South Sudan\n"
     ]
    }
   ],
   "source": [
    "print(loaded_data[-1][\"Country\"])"
   ]
  }
 ],
 "metadata": {
  "kernelspec": {
   "display_name": "Python 3",
   "language": "python",
   "name": "python3"
  },
  "language_info": {
   "codemirror_mode": {
    "name": "ipython",
    "version": 3
   },
   "file_extension": ".py",
   "mimetype": "text/x-python",
   "name": "python",
   "nbconvert_exporter": "python",
   "pygments_lexer": "ipython3",
   "version": "3.7.3"
  }
 },
 "nbformat": 4,
 "nbformat_minor": 2
}
