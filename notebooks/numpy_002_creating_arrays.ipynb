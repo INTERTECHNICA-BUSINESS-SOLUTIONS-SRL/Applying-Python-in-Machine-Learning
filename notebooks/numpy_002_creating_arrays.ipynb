{
 "cells": [
  {
   "cell_type": "markdown",
   "metadata": {},
   "source": [
    "![*INTERTECHNICA - SOLON EDUCATIONAL PROGRAMS - TECHNOLOGY LINE*](https://solon.intertechnica.com/assets/IntertechnicaSolonEducationalPrograms-TechnologyLine.png)"
   ]
  },
  {
   "cell_type": "markdown",
   "metadata": {},
   "source": [
    "# Python for Data Processing - Creating Arrays"
   ]
  },
  {
   "cell_type": "markdown",
   "metadata": {},
   "source": [
    "*Numpy allows various methods for creating arrays starting from creation using basic types to loading data from external sources*."
   ]
  },
  {
   "cell_type": "markdown",
   "metadata": {},
   "source": [
    "Initializing environment for machine learning use:"
   ]
  },
  {
   "cell_type": "code",
   "execution_count": 1,
   "metadata": {},
   "outputs": [
    {
     "name": "stdout",
     "output_type": "stream",
     "text": [
      "Requirement already satisfied: numpy in /home/marin/anaconda3/lib/python3.7/site-packages (1.16.2)\r\n"
     ]
    }
   ],
   "source": [
    "!python -m pip install numpy"
   ]
  },
  {
   "cell_type": "markdown",
   "metadata": {},
   "source": [
    "## 1. Creating from arrays and lists"
   ]
  },
  {
   "cell_type": "markdown",
   "metadata": {},
   "source": [
    "An array can be created from simple Python arrays:"
   ]
  },
  {
   "cell_type": "code",
   "execution_count": 2,
   "metadata": {},
   "outputs": [],
   "source": [
    "import numpy as np"
   ]
  },
  {
   "cell_type": "code",
   "execution_count": 3,
   "metadata": {},
   "outputs": [
    {
     "name": "stdout",
     "output_type": "stream",
     "text": [
      "[ 1  2  3  4  5  6  7  8  9 10]\n"
     ]
    }
   ],
   "source": [
    "x_1d = np.array([ 1,   2,   3,   4,   5,   6,   7,   8,   9,  10])\n",
    "print(x_1d)"
   ]
  },
  {
   "cell_type": "code",
   "execution_count": 4,
   "metadata": {},
   "outputs": [
    {
     "name": "stdout",
     "output_type": "stream",
     "text": [
      "[[  1   2   3   4   5   6   7   8   9  10]\n",
      " [ 11  12  13  14  15  16  17  18  19  20]\n",
      " [ 21  22  23  24  25  26  27  28  29  30]\n",
      " [ 31  32  33  34  35  36  37  38  39  40]\n",
      " [ 41  42  43  44  45  46  47  48  49  50]\n",
      " [ 51  52  53  54  55  56  57  58  59  60]\n",
      " [ 61  62  63  64  65  66  67  68  69  70]\n",
      " [ 71  72  73  74  75  76  77  78  79  80]\n",
      " [ 81  82  83  84  85  86  87  88  89  90]\n",
      " [ 91  92  93  94  95  96  97  98  99 100]]\n"
     ]
    }
   ],
   "source": [
    "x_2d = np.array(\n",
    "      [[  1,   2,   3,   4,   5,   6,   7,   8,   9,  10],\n",
    "       [ 11,  12,  13,  14,  15,  16,  17,  18,  19,  20],\n",
    "       [ 21,  22,  23,  24,  25,  26,  27,  28,  29,  30],\n",
    "       [ 31,  32,  33,  34,  35,  36,  37,  38,  39,  40],\n",
    "       [ 41,  42,  43,  44,  45,  46,  47,  48,  49,  50],\n",
    "       [ 51,  52,  53,  54,  55,  56,  57,  58,  59,  60],\n",
    "       [ 61,  62,  63,  64,  65,  66,  67,  68,  69,  70],\n",
    "       [ 71,  72,  73,  74,  75,  76,  77,  78,  79,  80],\n",
    "       [ 81,  82,  83,  84,  85,  86,  87,  88,  89,  90],\n",
    "       [ 91,  92,  93,  94,  95,  96,  97,  98,  99, 100]])\n",
    "\n",
    "print(x_2d)"
   ]
  },
  {
   "cell_type": "markdown",
   "metadata": {},
   "source": [
    "Numpy also allows creation of arrays from lists:"
   ]
  },
  {
   "cell_type": "code",
   "execution_count": 5,
   "metadata": {},
   "outputs": [],
   "source": [
    "x_1d_list = np.array(( 1,   2,   3,   4,   5,   6,   7,   8,   9,  10))"
   ]
  },
  {
   "cell_type": "markdown",
   "metadata": {},
   "source": [
    "By using lists it is possible to create **arrays of complex types** as well:"
   ]
  },
  {
   "cell_type": "code",
   "execution_count": 6,
   "metadata": {},
   "outputs": [
    {
     "name": "stdout",
     "output_type": "stream",
     "text": [
      "[('One', 1) ('Two', 2) ('Three', 3)]\n"
     ]
    }
   ],
   "source": [
    "x_1d_complex = np.array(\n",
    "    [(\"One\", 1), (\"Two\", 2), (\"Three\", 3)],\n",
    "    dtype=[(\"Literal Form\", \"U10\"), (\"Numeric Value\", \"i1\")])\n",
    "\n",
    "print(x_1d_complex)"
   ]
  },
  {
   "cell_type": "code",
   "execution_count": 7,
   "metadata": {},
   "outputs": [
    {
     "name": "stdout",
     "output_type": "stream",
     "text": [
      "['One' 'Two' 'Three']\n"
     ]
    }
   ],
   "source": [
    "print(x_1d_complex[\"Literal Form\"])"
   ]
  },
  {
   "cell_type": "code",
   "execution_count": 8,
   "metadata": {},
   "outputs": [
    {
     "name": "stdout",
     "output_type": "stream",
     "text": [
      "[1 2 3]\n"
     ]
    }
   ],
   "source": [
    "print(x_1d_complex[\"Numeric Value\"])"
   ]
  },
  {
   "cell_type": "markdown",
   "metadata": {},
   "source": [
    "## 2. Creating via dedicated functions"
   ]
  },
  {
   "cell_type": "markdown",
   "metadata": {},
   "source": [
    "Numpy allows creation of arrays using dedicated numpy functions."
   ]
  },
  {
   "cell_type": "markdown",
   "metadata": {},
   "source": [
    "One of these functions is **arange** which creates a uni-dimensional array with each element having its ordinal value starting from 0."
   ]
  },
  {
   "cell_type": "code",
   "execution_count": 9,
   "metadata": {},
   "outputs": [
    {
     "name": "stdout",
     "output_type": "stream",
     "text": [
      "[0 1 2 3 4 5 6 7 8 9]\n"
     ]
    }
   ],
   "source": [
    "x_1d_arange = np.arange(10)\n",
    "print(x_1d_arange)"
   ]
  },
  {
   "cell_type": "markdown",
   "metadata": {},
   "source": [
    "Another useful function is **empty** which creates arrays with non-initialized content and various dimensions. "
   ]
  },
  {
   "cell_type": "code",
   "execution_count": 10,
   "metadata": {},
   "outputs": [
    {
     "name": "stdout",
     "output_type": "stream",
     "text": [
      "[6.93205006e-310 6.93205012e-310 6.93205006e-310 6.93205006e-310\n",
      " 6.93205019e-310 6.93205019e-310 6.93202642e-310 6.93205019e-310\n",
      " 6.93205099e-310 5.58294180e-322]\n"
     ]
    }
   ],
   "source": [
    "x_1d_empty = np.empty(10)\n",
    "print(x_1d_empty)"
   ]
  },
  {
   "cell_type": "code",
   "execution_count": 11,
   "metadata": {},
   "outputs": [
    {
     "name": "stdout",
     "output_type": "stream",
     "text": [
      "[[6.93202376e-310 5.43472210e-323 0.00000000e+000 3.95252517e-323\n",
      "  6.93192365e-310 0.00000000e+000 6.93202628e-310 0.00000000e+000\n",
      "  6.93202628e-310 0.00000000e+000]\n",
      " [6.93202628e-310 0.00000000e+000 2.49009086e-321 9.88131292e-324\n",
      "  6.93202628e-310 4.66480655e-310 0.00000000e+000 7.90505033e-323\n",
      "              nan 0.00000000e+000]\n",
      " [6.93192365e-310 3.55727265e-321 4.44659081e-323 6.93202628e-310\n",
      "  4.66480655e-310 4.94065646e-324 7.90505033e-323             nan\n",
      "  6.93202631e-310 6.93192365e-310]\n",
      " [6.93202628e-310 0.00000000e+000 0.00000000e+000 0.00000000e+000\n",
      "  0.00000000e+000 0.00000000e+000 0.00000000e+000 0.00000000e+000\n",
      "  0.00000000e+000 0.00000000e+000]\n",
      " [6.93202628e-310 0.00000000e+000 6.93202628e-310 0.00000000e+000\n",
      "  6.93202628e-310 0.00000000e+000 6.93202628e-310 6.93202628e-310\n",
      "  3.91299992e-321 9.88131292e-324]\n",
      " [6.93202628e-310 4.66480655e-310 0.00000000e+000 7.90505033e-323\n",
      "  0.00000000e+000 0.00000000e+000 0.00000000e+000 9.88131292e-324\n",
      "  6.93202628e-310 4.66478335e-310]\n",
      " [4.66480483e-310 4.66480483e-310 4.66480483e-310 3.48316280e-321\n",
      "  6.93205086e-310 6.93205086e-310 4.66480483e-310 4.66480483e-310\n",
      "  4.66480483e-310 4.66480483e-310]\n",
      " [4.66480483e-310 4.66480483e-310 4.66480483e-310 4.66480483e-310\n",
      "  4.66480483e-310 4.66480483e-310 4.66480483e-310 4.66480483e-310\n",
      "  4.66480483e-310 4.66480483e-310]\n",
      " [4.66480483e-310 4.66480483e-310 4.66480483e-310 4.66480483e-310\n",
      "  4.66480483e-310 4.66480483e-310 0.00000000e+000 0.00000000e+000\n",
      "  0.00000000e+000 9.88131292e-324]\n",
      " [6.93204635e-310 4.66478335e-310 4.66480483e-310 4.66480483e-310\n",
      "  4.66480483e-310 4.66480483e-310 4.66480483e-310 4.66480483e-310\n",
      "  4.66480483e-310 4.66480483e-310]]\n"
     ]
    }
   ],
   "source": [
    "x_2d_empty = np.empty((10,10))\n",
    "print(x_2d_empty)"
   ]
  },
  {
   "cell_type": "markdown",
   "metadata": {},
   "source": [
    "The **zeros** function can be used to create arrays initialized with 0 values: "
   ]
  },
  {
   "cell_type": "code",
   "execution_count": 12,
   "metadata": {},
   "outputs": [
    {
     "name": "stdout",
     "output_type": "stream",
     "text": [
      "[0. 0. 0. 0. 0. 0. 0. 0. 0. 0.]\n"
     ]
    }
   ],
   "source": [
    "x_1d_zeros = np.zeros(10)\n",
    "print(x_1d_zeros)"
   ]
  },
  {
   "cell_type": "code",
   "execution_count": 13,
   "metadata": {},
   "outputs": [
    {
     "name": "stdout",
     "output_type": "stream",
     "text": [
      "[[0. 0. 0. 0. 0. 0. 0. 0. 0. 0.]\n",
      " [0. 0. 0. 0. 0. 0. 0. 0. 0. 0.]\n",
      " [0. 0. 0. 0. 0. 0. 0. 0. 0. 0.]\n",
      " [0. 0. 0. 0. 0. 0. 0. 0. 0. 0.]\n",
      " [0. 0. 0. 0. 0. 0. 0. 0. 0. 0.]\n",
      " [0. 0. 0. 0. 0. 0. 0. 0. 0. 0.]\n",
      " [0. 0. 0. 0. 0. 0. 0. 0. 0. 0.]\n",
      " [0. 0. 0. 0. 0. 0. 0. 0. 0. 0.]\n",
      " [0. 0. 0. 0. 0. 0. 0. 0. 0. 0.]\n",
      " [0. 0. 0. 0. 0. 0. 0. 0. 0. 0.]]\n"
     ]
    }
   ],
   "source": [
    "x_2d_zeros = np.zeros((10,10))\n",
    "print(x_2d_zeros)"
   ]
  },
  {
   "cell_type": "markdown",
   "metadata": {},
   "source": [
    "The **ones** function behaves like **zeros** functions but initializes the array with 1 values. "
   ]
  },
  {
   "cell_type": "markdown",
   "metadata": {},
   "source": [
    "The **full** function creates arrays initialized with a specific value and various dimensions:"
   ]
  },
  {
   "cell_type": "code",
   "execution_count": 14,
   "metadata": {},
   "outputs": [
    {
     "name": "stdout",
     "output_type": "stream",
     "text": [
      "[-1 -1 -1 -1 -1 -1 -1 -1 -1 -1]\n"
     ]
    }
   ],
   "source": [
    "x_1d_full = np.full(10, -1)\n",
    "print(x_1d_full)"
   ]
  },
  {
   "cell_type": "code",
   "execution_count": 15,
   "metadata": {},
   "outputs": [
    {
     "name": "stdout",
     "output_type": "stream",
     "text": [
      "[[-1 -1 -1 -1 -1 -1 -1 -1 -1 -1]\n",
      " [-1 -1 -1 -1 -1 -1 -1 -1 -1 -1]\n",
      " [-1 -1 -1 -1 -1 -1 -1 -1 -1 -1]\n",
      " [-1 -1 -1 -1 -1 -1 -1 -1 -1 -1]\n",
      " [-1 -1 -1 -1 -1 -1 -1 -1 -1 -1]\n",
      " [-1 -1 -1 -1 -1 -1 -1 -1 -1 -1]\n",
      " [-1 -1 -1 -1 -1 -1 -1 -1 -1 -1]\n",
      " [-1 -1 -1 -1 -1 -1 -1 -1 -1 -1]\n",
      " [-1 -1 -1 -1 -1 -1 -1 -1 -1 -1]\n",
      " [-1 -1 -1 -1 -1 -1 -1 -1 -1 -1]]\n"
     ]
    }
   ],
   "source": [
    "x_2d_full = np.full((10,10), -1)\n",
    "print(x_2d_full)"
   ]
  },
  {
   "cell_type": "markdown",
   "metadata": {},
   "source": [
    "An array can be also created with random-initialized content by using **random** function from **numpy.random** package:"
   ]
  },
  {
   "cell_type": "code",
   "execution_count": 16,
   "metadata": {},
   "outputs": [
    {
     "name": "stdout",
     "output_type": "stream",
     "text": [
      "[0.5173243  0.50980414 0.94398728 0.48420488 0.78291118 0.10357251\n",
      " 0.34889221 0.76528306 0.50048503 0.55553144]\n"
     ]
    }
   ],
   "source": [
    "x_1d_random = np.random.random(10)\n",
    "print(x_1d_random)"
   ]
  },
  {
   "cell_type": "code",
   "execution_count": 17,
   "metadata": {},
   "outputs": [
    {
     "name": "stdout",
     "output_type": "stream",
     "text": [
      "[[0.87148379 0.79940125 0.11614865 0.99513655 0.87100105 0.7142052\n",
      "  0.92614765 0.14347957 0.51730657 0.28283052]\n",
      " [0.3954685  0.97098503 0.04777946 0.49987938 0.5587678  0.90215673\n",
      "  0.27493523 0.05797381 0.879331   0.4323666 ]\n",
      " [0.23138751 0.43883196 0.97050638 0.50155029 0.35834456 0.31837864\n",
      "  0.00927068 0.90245258 0.7238452  0.46806829]\n",
      " [0.82035135 0.60118935 0.25417719 0.30314345 0.5155956  0.71969464\n",
      "  0.23176469 0.16539049 0.66904358 0.32911093]\n",
      " [0.51496694 0.22832637 0.2192125  0.86356019 0.28444968 0.24605818\n",
      "  0.26306795 0.32825842 0.68277818 0.69825317]\n",
      " [0.48247559 0.271428   0.93429849 0.45862553 0.97655133 0.09122789\n",
      "  0.19333361 0.28736221 0.70051214 0.10260642]\n",
      " [0.49219914 0.41933213 0.53787834 0.14057413 0.19215617 0.0037713\n",
      "  0.80598402 0.83529914 0.38918266 0.31968485]\n",
      " [0.66131673 0.65166385 0.37121191 0.57883176 0.85629854 0.79295485\n",
      "  0.7549     0.67507067 0.63450021 0.67020349]\n",
      " [0.68491502 0.69216207 0.10074644 0.13063579 0.54283063 0.94173883\n",
      "  0.85775559 0.6491957  0.94523566 0.27409897]\n",
      " [0.89792803 0.57595231 0.87795374 0.37973616 0.74208185 0.5486546\n",
      "  0.10009364 0.66685917 0.45945167 0.7520502 ]]\n"
     ]
    }
   ],
   "source": [
    "x_2d_random = np.random.random((10, 10))\n",
    "print(x_2d_random)"
   ]
  },
  {
   "cell_type": "markdown",
   "metadata": {},
   "source": [
    "## 3. Creating via data loading"
   ]
  },
  {
   "cell_type": "markdown",
   "metadata": {},
   "source": [
    "Numpy allows loading text-based data (in principle CSV data) via the **loadtxt** function. This function allows specification of the parameters for loading operation such as: rows to be skipped, the data delimiter or a complex numpy type to be associated with the data. "
   ]
  },
  {
   "cell_type": "code",
   "execution_count": 18,
   "metadata": {},
   "outputs": [],
   "source": [
    "# import packages for remote data load\n",
    "import requests\n",
    "import io\n",
    "\n",
    "# read data remotely\n",
    "data_url = \"https://raw.githubusercontent.com/INTERTECHNICA-BUSINESS-SOLUTIONS-SRL/Applying-Python-in-Machine-Learning/master/notebooks/numpy_002_creating_arrays_happines_rank_2020.csv\"\n",
    "response = requests.get(data_url)\n",
    "\n",
    "# load the string data into a record array\n",
    "loaded_data = np.loadtxt(\n",
    "    io.StringIO(response.text), \n",
    "    skiprows = 1, \n",
    "    delimiter = \",\", \n",
    "    dtype = {\"names\" : (\"Country\", \"Rank\", \"Score\", \"Population\"),\n",
    "            \"formats\": (\"U20\", \"int8\", \"float16\", \"float32\")}\n",
    ")"
   ]
  },
  {
   "cell_type": "code",
   "execution_count": 19,
   "metadata": {},
   "outputs": [
    {
     "name": "stdout",
     "output_type": "stream",
     "text": [
      "(152,)\n"
     ]
    }
   ],
   "source": [
    "print(loaded_data.shape)"
   ]
  },
  {
   "cell_type": "code",
   "execution_count": 20,
   "metadata": {},
   "outputs": [
    {
     "name": "stdout",
     "output_type": "stream",
     "text": [
      "('Finland', 1, 7.77, 5540.72)\n"
     ]
    }
   ],
   "source": [
    "print(loaded_data[0])"
   ]
  },
  {
   "cell_type": "code",
   "execution_count": 21,
   "metadata": {},
   "outputs": [
    {
     "name": "stdout",
     "output_type": "stream",
     "text": [
      "['Finland' 'Denmark' 'Norway' 'Iceland' 'Netherlands' 'Switzerland'\n",
      " 'Sweden' 'New Zealand' 'Canada' 'Austria' 'Australia' 'Costa Rica'\n",
      " 'Israel' 'Luxembourg' 'United Kingdom' 'Ireland' 'Germany' 'Belgium'\n",
      " 'United States' 'Czech Republic' 'United Arab Emirates' 'Malta' 'Mexico'\n",
      " 'France' 'Taiwan' 'Chile' 'Guatemala' 'Saudi Arabia' 'Qatar' 'Spain'\n",
      " 'Panama' 'Brazil' 'Uruguay' 'Singapore' 'El Salvador' 'Italy' 'Bahrain'\n",
      " 'Slovakia' 'Trinidad and Tobago' 'Poland' 'Uzbekistan' 'Lithuania'\n",
      " 'Colombia' 'Slovenia' 'Nicaragua' 'Argentina' 'Romania' 'Ecuador'\n",
      " 'Kuwait' 'Thailand' 'Latvia' 'South Korea' 'Estonia' 'Jamaica'\n",
      " 'Mauritius' 'Japan' 'Honduras' 'Kazakhstan' 'Bolivia' 'Hungary'\n",
      " 'Paraguay' 'Cyprus' 'Peru' 'Portugal' 'Pakistan' 'Russia' 'Philippines'\n",
      " 'Serbia' 'Moldova' 'Libya' 'Montenegro' 'Tajikistan' 'Croatia'\n",
      " 'Hong Kong' 'Dominican Republic' 'Bosnia and Herzegovi' 'Turkey'\n",
      " 'Malaysia' 'Belarus' 'Greece' 'Mongolia' 'Nigeria' 'Kyrgyzstan'\n",
      " 'Turkmenistan' 'Algeria' 'Morocco' 'Azerbaijan' 'Lebanon' 'Indonesia'\n",
      " 'China' 'Vietnam' 'Bhutan' 'Cameroon' 'Bulgaria' 'Ghana' 'Ivory Coast'\n",
      " 'Nepal' 'Jordan' 'Benin' 'Republic of the Cong' 'Gabon' 'Laos'\n",
      " 'South Africa' 'Albania' 'Venezuela' 'Cambodia' 'Palestine' 'Senegal'\n",
      " 'Somalia' 'Namibia' 'Niger' 'Burkina Faso' 'Armenia' 'Iran' 'Guinea'\n",
      " 'Georgia' 'Gambia' 'Kenya' 'Mauritania' 'Mozambique' 'Tunisia'\n",
      " 'Bangladesh' 'Iraq' 'DR Congo' 'Mali' 'Sierra Leone' 'Sri Lanka'\n",
      " 'Myanmar' 'Chad' 'Ukraine' 'Ethiopia' 'Uganda' 'Egypt' 'Zambia' 'Togo'\n",
      " 'India' 'Liberia' 'Comoros' 'Madagascar' 'Lesotho' 'Burundi' 'Zimbabwe'\n",
      " 'Haiti' 'Botswana' 'Syria' 'Malawi' 'Yemen' 'Rwanda' 'Tanzania'\n",
      " 'Afghanistan' 'Central African Repu' 'South Sudan']\n"
     ]
    }
   ],
   "source": [
    "print(loaded_data[\"Country\"])"
   ]
  },
  {
   "cell_type": "code",
   "execution_count": 22,
   "metadata": {},
   "outputs": [
    {
     "name": "stdout",
     "output_type": "stream",
     "text": [
      "South Sudan\n"
     ]
    }
   ],
   "source": [
    "print(loaded_data[-1][\"Country\"])"
   ]
  }
 ],
 "metadata": {
  "kernelspec": {
   "display_name": "Python 3",
   "language": "python",
   "name": "python3"
  },
  "language_info": {
   "codemirror_mode": {
    "name": "ipython",
    "version": 3
   },
   "file_extension": ".py",
   "mimetype": "text/x-python",
   "name": "python",
   "nbconvert_exporter": "python",
   "pygments_lexer": "ipython3",
   "version": "3.7.3"
  }
 },
 "nbformat": 4,
 "nbformat_minor": 2
}
