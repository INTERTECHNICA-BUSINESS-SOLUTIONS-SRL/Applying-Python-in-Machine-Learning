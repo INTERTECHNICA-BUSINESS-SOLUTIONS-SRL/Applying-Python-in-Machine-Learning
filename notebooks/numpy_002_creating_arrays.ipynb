{
 "cells": [
  {
   "cell_type": "markdown",
   "metadata": {},
   "source": [
    "![*INTERTECHNICA - SOLON EDUCATIONAL PROGRAMS - TECHNOLOGY LINE*](https://solon.intertechnica.com/assets/IntertechnicaSolonEducationalPrograms-TechnologyLine.png)"
   ]
  },
  {
   "cell_type": "markdown",
   "metadata": {},
   "source": [
    "# Python for Data Processing - Creating Arrays"
   ]
  },
  {
   "cell_type": "markdown",
   "metadata": {},
   "source": [
    "*Numpy allows various methods for creating arrays starting from creation using basic types to loading data from external sources*."
   ]
  },
  {
   "cell_type": "markdown",
   "metadata": {},
   "source": [
    "Initializing environment for machine learning use:"
   ]
  },
  {
   "cell_type": "code",
   "execution_count": 1,
   "metadata": {},
   "outputs": [
    {
     "name": "stdout",
     "output_type": "stream",
     "text": [
      "Requirement already satisfied: numpy in /home/marin/anaconda3/lib/python3.7/site-packages (1.16.2)\r\n"
     ]
    }
   ],
   "source": [
    "!python -m pip install numpy"
   ]
  },
  {
   "cell_type": "markdown",
   "metadata": {},
   "source": [
    "## 1. Creating from arrays and lists"
   ]
  },
  {
   "cell_type": "markdown",
   "metadata": {},
   "source": [
    "An array can be created from simple Python arrays:"
   ]
  },
  {
   "cell_type": "code",
   "execution_count": 2,
   "metadata": {},
   "outputs": [],
   "source": [
    "import numpy as np"
   ]
  },
  {
   "cell_type": "code",
   "execution_count": 3,
   "metadata": {},
   "outputs": [
    {
     "name": "stdout",
     "output_type": "stream",
     "text": [
      "[ 1  2  3  4  5  6  7  8  9 10]\n"
     ]
    }
   ],
   "source": [
    "x_1d = np.array([ 1,   2,   3,   4,   5,   6,   7,   8,   9,  10])\n",
    "print(x_1d)"
   ]
  },
  {
   "cell_type": "code",
   "execution_count": 4,
   "metadata": {},
   "outputs": [
    {
     "name": "stdout",
     "output_type": "stream",
     "text": [
      "[[  1   2   3   4   5   6   7   8   9  10]\n",
      " [ 11  12  13  14  15  16  17  18  19  20]\n",
      " [ 21  22  23  24  25  26  27  28  29  30]\n",
      " [ 31  32  33  34  35  36  37  38  39  40]\n",
      " [ 41  42  43  44  45  46  47  48  49  50]\n",
      " [ 51  52  53  54  55  56  57  58  59  60]\n",
      " [ 61  62  63  64  65  66  67  68  69  70]\n",
      " [ 71  72  73  74  75  76  77  78  79  80]\n",
      " [ 81  82  83  84  85  86  87  88  89  90]\n",
      " [ 91  92  93  94  95  96  97  98  99 100]]\n"
     ]
    }
   ],
   "source": [
    "x_2d = np.array(\n",
    "      [[  1,   2,   3,   4,   5,   6,   7,   8,   9,  10],\n",
    "       [ 11,  12,  13,  14,  15,  16,  17,  18,  19,  20],\n",
    "       [ 21,  22,  23,  24,  25,  26,  27,  28,  29,  30],\n",
    "       [ 31,  32,  33,  34,  35,  36,  37,  38,  39,  40],\n",
    "       [ 41,  42,  43,  44,  45,  46,  47,  48,  49,  50],\n",
    "       [ 51,  52,  53,  54,  55,  56,  57,  58,  59,  60],\n",
    "       [ 61,  62,  63,  64,  65,  66,  67,  68,  69,  70],\n",
    "       [ 71,  72,  73,  74,  75,  76,  77,  78,  79,  80],\n",
    "       [ 81,  82,  83,  84,  85,  86,  87,  88,  89,  90],\n",
    "       [ 91,  92,  93,  94,  95,  96,  97,  98,  99, 100]])\n",
    "\n",
    "print(x_2d)"
   ]
  },
  {
   "cell_type": "markdown",
   "metadata": {},
   "source": [
    "Numpy also allows creation of arrays from lists:"
   ]
  },
  {
   "cell_type": "code",
   "execution_count": 5,
   "metadata": {},
   "outputs": [],
   "source": [
    "x_1d_list = np.array(( 1,   2,   3,   4,   5,   6,   7,   8,   9,  10))"
   ]
  },
  {
   "cell_type": "markdown",
   "metadata": {},
   "source": [
    "By using lists it is possible to create **arrays of complex types** as well:"
   ]
  },
  {
   "cell_type": "code",
   "execution_count": 6,
   "metadata": {},
   "outputs": [
    {
     "name": "stdout",
     "output_type": "stream",
     "text": [
      "[('One', 1) ('Two', 2) ('Three', 3)]\n"
     ]
    }
   ],
   "source": [
    "x_1d_complex = np.array(\n",
    "    [(\"One\", 1), (\"Two\", 2), (\"Three\", 3)],\n",
    "    dtype=[(\"Literal Form\", \"U10\"), (\"Numeric Value\", \"i1\")])\n",
    "\n",
    "print(x_1d_complex)"
   ]
  },
  {
   "cell_type": "code",
   "execution_count": 7,
   "metadata": {},
   "outputs": [
    {
     "name": "stdout",
     "output_type": "stream",
     "text": [
      "['One' 'Two' 'Three']\n"
     ]
    }
   ],
   "source": [
    "print(x_1d_complex[\"Literal Form\"])"
   ]
  },
  {
   "cell_type": "code",
   "execution_count": 8,
   "metadata": {},
   "outputs": [
    {
     "name": "stdout",
     "output_type": "stream",
     "text": [
      "[1 2 3]\n"
     ]
    }
   ],
   "source": [
    "print(x_1d_complex[\"Numeric Value\"])"
   ]
  },
  {
   "cell_type": "markdown",
   "metadata": {},
   "source": [
    "## 2. Creating via dedicated functions"
   ]
  },
  {
   "cell_type": "markdown",
   "metadata": {},
   "source": [
    "Numpy allows creation of arrays using dedicated numpy functions."
   ]
  },
  {
   "cell_type": "markdown",
   "metadata": {},
   "source": [
    "One of these functions is **arange** which creates a uni-dimensional array with each element having its ordinal value starting from 0."
   ]
  },
  {
   "cell_type": "code",
   "execution_count": 9,
   "metadata": {},
   "outputs": [
    {
     "name": "stdout",
     "output_type": "stream",
     "text": [
      "[0 1 2 3 4 5 6 7 8 9]\n"
     ]
    }
   ],
   "source": [
    "x_1d_arange = np.arange(10)\n",
    "print(x_1d_arange)"
   ]
  },
  {
   "cell_type": "markdown",
   "metadata": {},
   "source": [
    "Another useful function is **empty** which creates arrays with non-initialized content and various dimensions. "
   ]
  },
  {
   "cell_type": "code",
   "execution_count": 10,
   "metadata": {},
   "outputs": [
    {
     "name": "stdout",
     "output_type": "stream",
     "text": [
      "[5.01163117e+217 5.49419094e-143 9.80058441e+252 1.30304358e-142\n",
      " 2.14027814e+161 9.29590747e+242 7.49874326e+247 3.38040132e-067\n",
      " 5.27846928e-091 5.16298772e-066]\n"
     ]
    }
   ],
   "source": [
    "x_1d_empty = np.empty(10)\n",
    "print(x_1d_empty)"
   ]
  },
  {
   "cell_type": "code",
   "execution_count": 11,
   "metadata": {},
   "outputs": [
    {
     "name": "stdout",
     "output_type": "stream",
     "text": [
      "[[4.94065646e-324 4.64216945e-310 4.64207799e-310 6.93509122e-310\n",
      "  6.93489444e-310 9.88131292e-324 4.94065646e-324 1.38338381e-322\n",
      "  6.93510756e-310 6.93510664e-310]\n",
      " [4.94065646e-324 2.75859453e-313 2.75859453e-313 4.64216945e-310\n",
      "  6.93510846e-310 6.93510664e-310 2.75859453e-313 4.94065646e-324\n",
      "  4.64216945e-310 9.88131292e-324]\n",
      " [4.64216945e-310 4.64216945e-310 8.39911598e-323 4.64216851e-310\n",
      "  4.64216945e-310 8.39911598e-323 4.88059032e-313 6.93489444e-310\n",
      "  4.64216851e-310 4.88059032e-313]\n",
      " [8.39911598e-323 5.51718906e-313 4.64207799e-310 6.93509122e-310\n",
      "  5.51718906e-313 1.48219694e-322 4.88059032e-313 0.00000000e+000\n",
      "  0.00000000e+000 4.88059032e-313]\n",
      " [4.64216945e-310 4.64216945e-310 4.64216945e-310 2.75859453e-313\n",
      "  2.75859453e-313 4.64216945e-310 4.64216945e-310 4.64216945e-310\n",
      "  0.00000000e+000 0.00000000e+000]\n",
      " [4.94065646e-324 4.94065646e-324 4.64216945e-310 6.93510931e-310\n",
      "  4.94065646e-324 6.93509122e-310 9.88131292e-324 4.94065646e-324\n",
      "  4.64216945e-310 0.00000000e+000]\n",
      " [0.00000000e+000 1.38338381e-322 6.93509122e-310             nan\n",
      "  0.00000000e+000 1.27319747e-313 7.90505033e-323 4.64216945e-310\n",
      "  4.64216945e-310 4.64216945e-310]\n",
      " [9.88131292e-324 1.08694442e-322 4.64216945e-310 0.00000000e+000\n",
      "  4.94065646e-324 0.00000000e+000 0.00000000e+000 9.88131292e-324\n",
      "  4.94065646e-324 4.64216945e-310]\n",
      " [0.00000000e+000 0.00000000e+000 0.00000000e+000 0.00000000e+000\n",
      "  0.00000000e+000 0.00000000e+000 0.00000000e+000 0.00000000e+000\n",
      "  0.00000000e+000 0.00000000e+000]\n",
      " [0.00000000e+000 0.00000000e+000 0.00000000e+000 0.00000000e+000\n",
      "  0.00000000e+000 0.00000000e+000 0.00000000e+000 3.70909902e-319\n",
      "  0.00000000e+000 0.00000000e+000]]\n"
     ]
    }
   ],
   "source": [
    "x_2d_empty = np.empty((10,10))\n",
    "print(x_2d_empty)"
   ]
  },
  {
   "cell_type": "markdown",
   "metadata": {},
   "source": [
    "The **zeros** function can be used to create arrays initialized with 0 values: "
   ]
  },
  {
   "cell_type": "code",
   "execution_count": 12,
   "metadata": {},
   "outputs": [
    {
     "name": "stdout",
     "output_type": "stream",
     "text": [
      "[0. 0. 0. 0. 0. 0. 0. 0. 0. 0.]\n"
     ]
    }
   ],
   "source": [
    "x_1d_zeros = np.zeros(10)\n",
    "print(x_1d_zeros)"
   ]
  },
  {
   "cell_type": "code",
   "execution_count": 13,
   "metadata": {},
   "outputs": [
    {
     "name": "stdout",
     "output_type": "stream",
     "text": [
      "[[0. 0. 0. 0. 0. 0. 0. 0. 0. 0.]\n",
      " [0. 0. 0. 0. 0. 0. 0. 0. 0. 0.]\n",
      " [0. 0. 0. 0. 0. 0. 0. 0. 0. 0.]\n",
      " [0. 0. 0. 0. 0. 0. 0. 0. 0. 0.]\n",
      " [0. 0. 0. 0. 0. 0. 0. 0. 0. 0.]\n",
      " [0. 0. 0. 0. 0. 0. 0. 0. 0. 0.]\n",
      " [0. 0. 0. 0. 0. 0. 0. 0. 0. 0.]\n",
      " [0. 0. 0. 0. 0. 0. 0. 0. 0. 0.]\n",
      " [0. 0. 0. 0. 0. 0. 0. 0. 0. 0.]\n",
      " [0. 0. 0. 0. 0. 0. 0. 0. 0. 0.]]\n"
     ]
    }
   ],
   "source": [
    "x_2d_zeros = np.zeros((10,10))\n",
    "print(x_2d_zeros)"
   ]
  },
  {
   "cell_type": "markdown",
   "metadata": {},
   "source": [
    "The **ones** function behaves like **zeros** functions but initializes the array with 1 values. "
   ]
  },
  {
   "cell_type": "markdown",
   "metadata": {},
   "source": [
    "The **full** function creates arrays initialized with a specific value and various dimensions:"
   ]
  },
  {
   "cell_type": "code",
   "execution_count": 14,
   "metadata": {},
   "outputs": [
    {
     "name": "stdout",
     "output_type": "stream",
     "text": [
      "[-1 -1 -1 -1 -1 -1 -1 -1 -1 -1]\n"
     ]
    }
   ],
   "source": [
    "x_1d_full = np.full(10, -1)\n",
    "print(x_1d_full)"
   ]
  },
  {
   "cell_type": "code",
   "execution_count": 15,
   "metadata": {},
   "outputs": [
    {
     "name": "stdout",
     "output_type": "stream",
     "text": [
      "[[-1 -1 -1 -1 -1 -1 -1 -1 -1 -1]\n",
      " [-1 -1 -1 -1 -1 -1 -1 -1 -1 -1]\n",
      " [-1 -1 -1 -1 -1 -1 -1 -1 -1 -1]\n",
      " [-1 -1 -1 -1 -1 -1 -1 -1 -1 -1]\n",
      " [-1 -1 -1 -1 -1 -1 -1 -1 -1 -1]\n",
      " [-1 -1 -1 -1 -1 -1 -1 -1 -1 -1]\n",
      " [-1 -1 -1 -1 -1 -1 -1 -1 -1 -1]\n",
      " [-1 -1 -1 -1 -1 -1 -1 -1 -1 -1]\n",
      " [-1 -1 -1 -1 -1 -1 -1 -1 -1 -1]\n",
      " [-1 -1 -1 -1 -1 -1 -1 -1 -1 -1]]\n"
     ]
    }
   ],
   "source": [
    "x_2d_full = np.full((10,10), -1)\n",
    "print(x_2d_full)"
   ]
  },
  {
   "cell_type": "markdown",
   "metadata": {},
   "source": [
    "An array can be also created with random-initialized content by using **random** function from **numpy.random** package:"
   ]
  },
  {
   "cell_type": "code",
   "execution_count": 16,
   "metadata": {},
   "outputs": [
    {
     "name": "stdout",
     "output_type": "stream",
     "text": [
      "[0.28965214 0.48011596 0.0162579  0.13262907 0.49491341 0.14521897\n",
      " 0.45796588 0.06818773 0.31505545 0.94122502]\n"
     ]
    }
   ],
   "source": [
    "x_1d_random = np.random.random(10)\n",
    "print(x_1d_random)"
   ]
  },
  {
   "cell_type": "code",
   "execution_count": 17,
   "metadata": {},
   "outputs": [
    {
     "name": "stdout",
     "output_type": "stream",
     "text": [
      "[[9.76371027e-01 2.47238169e-01 6.37642930e-01 6.76845145e-01\n",
      "  2.89667044e-01 3.95761513e-01 5.30435988e-01 7.60735500e-01\n",
      "  7.06215441e-01 8.63967341e-02]\n",
      " [3.89588497e-01 1.75253526e-01 1.22418304e-01 2.04093672e-01\n",
      "  8.83614049e-01 7.36711220e-01 6.25351267e-01 7.09831862e-01\n",
      "  4.30809138e-01 7.08007324e-01]\n",
      " [6.40061490e-01 4.81256163e-01 7.83637743e-01 5.03809698e-01\n",
      "  1.86734669e-01 5.02599266e-01 6.31950359e-01 5.41447158e-02\n",
      "  8.74342371e-01 2.35273661e-01]\n",
      " [7.19107736e-01 2.36122526e-02 2.86525109e-01 5.80457250e-01\n",
      "  3.43322008e-01 2.72267873e-01 9.01081988e-01 2.73030894e-01\n",
      "  7.94818222e-01 4.64043814e-01]\n",
      " [1.56208328e-01 7.16788183e-01 2.70872196e-01 1.08526319e-01\n",
      "  9.00975815e-01 9.35017233e-01 7.07334331e-01 7.76269795e-01\n",
      "  7.07568244e-01 7.95240577e-01]\n",
      " [4.77574443e-01 6.14458774e-02 3.05735095e-01 6.26620329e-01\n",
      "  4.60070473e-01 9.10358493e-01 9.08594320e-01 6.12822096e-01\n",
      "  8.49723177e-01 9.85882737e-01]\n",
      " [1.75060934e-01 2.13068965e-01 3.04858968e-01 2.40203397e-01\n",
      "  3.88180548e-01 4.73477540e-04 6.01133747e-01 1.56566978e-01\n",
      "  1.95401530e-01 6.31381647e-01]\n",
      " [1.73520808e-01 7.44709526e-01 6.35931266e-01 8.14063720e-01\n",
      "  8.66823903e-01 5.09850871e-01 9.56167718e-01 6.94537879e-01\n",
      "  2.30144073e-02 3.30394679e-01]\n",
      " [8.13724498e-01 7.18703896e-01 1.70536990e-01 2.79701783e-02\n",
      "  4.46037310e-01 1.23596981e-01 2.60088684e-01 8.54884456e-02\n",
      "  4.62118307e-01 8.10005484e-01]\n",
      " [6.91807298e-01 5.37638908e-01 4.50803365e-01 5.40718792e-01\n",
      "  2.43904641e-01 9.49373040e-01 1.30765968e-01 6.70804223e-01\n",
      "  8.37258600e-01 2.91924062e-01]]\n"
     ]
    }
   ],
   "source": [
    "x_2d_random = np.random.random((10, 10))\n",
    "print(x_2d_random)"
   ]
  },
  {
   "cell_type": "markdown",
   "metadata": {},
   "source": [
    "## 3. Creating via data loading"
   ]
  },
  {
   "cell_type": "markdown",
   "metadata": {},
   "source": [
    "Numpy allows loading text-based data (in principle CSV data) via the **loadtxt** function. This function allows specification of the parameters for loading operation such as: rows to be skipped, the data delimiter or a complex numpy type to be associated with the data. "
   ]
  },
  {
   "cell_type": "code",
   "execution_count": 18,
   "metadata": {},
   "outputs": [],
   "source": [
    "# import packages for remote data load\n",
    "import requests\n",
    "import io\n",
    "\n",
    "# read data remotely\n",
    "data_url = \"https://raw.githubusercontent.com/INTERTECHNICA-BUSINESS-SOLUTIONS-SRL/Applying-Python-in-Machine-Learning/master/notebooks/data/numpy_002_creating_arrays_happines_rank_2020.csv\"\n",
    "response = requests.get(data_url)\n",
    "\n",
    "# load the string data into a record array\n",
    "loaded_data = np.loadtxt(\n",
    "    io.StringIO(response.text), \n",
    "    skiprows = 1, \n",
    "    delimiter = \",\", \n",
    "    dtype = {\"names\" : (\"Country\", \"Rank\", \"Score\", \"Population\"),\n",
    "            \"formats\": (\"U20\", \"int8\", \"float16\", \"float32\")}\n",
    ")"
   ]
  },
  {
   "cell_type": "code",
   "execution_count": 19,
   "metadata": {},
   "outputs": [
    {
     "name": "stdout",
     "output_type": "stream",
     "text": [
      "(152,)\n"
     ]
    }
   ],
   "source": [
    "print(loaded_data.shape)"
   ]
  },
  {
   "cell_type": "code",
   "execution_count": 20,
   "metadata": {},
   "outputs": [
    {
     "name": "stdout",
     "output_type": "stream",
     "text": [
      "('Finland', 1, 7.77, 5540.72)\n"
     ]
    }
   ],
   "source": [
    "print(loaded_data[0])"
   ]
  },
  {
   "cell_type": "code",
   "execution_count": 21,
   "metadata": {},
   "outputs": [
    {
     "name": "stdout",
     "output_type": "stream",
     "text": [
      "['Finland' 'Denmark' 'Norway' 'Iceland' 'Netherlands' 'Switzerland'\n",
      " 'Sweden' 'New Zealand' 'Canada' 'Austria' 'Australia' 'Costa Rica'\n",
      " 'Israel' 'Luxembourg' 'United Kingdom' 'Ireland' 'Germany' 'Belgium'\n",
      " 'United States' 'Czech Republic' 'United Arab Emirates' 'Malta' 'Mexico'\n",
      " 'France' 'Taiwan' 'Chile' 'Guatemala' 'Saudi Arabia' 'Qatar' 'Spain'\n",
      " 'Panama' 'Brazil' 'Uruguay' 'Singapore' 'El Salvador' 'Italy' 'Bahrain'\n",
      " 'Slovakia' 'Trinidad and Tobago' 'Poland' 'Uzbekistan' 'Lithuania'\n",
      " 'Colombia' 'Slovenia' 'Nicaragua' 'Argentina' 'Romania' 'Ecuador'\n",
      " 'Kuwait' 'Thailand' 'Latvia' 'South Korea' 'Estonia' 'Jamaica'\n",
      " 'Mauritius' 'Japan' 'Honduras' 'Kazakhstan' 'Bolivia' 'Hungary'\n",
      " 'Paraguay' 'Cyprus' 'Peru' 'Portugal' 'Pakistan' 'Russia' 'Philippines'\n",
      " 'Serbia' 'Moldova' 'Libya' 'Montenegro' 'Tajikistan' 'Croatia'\n",
      " 'Hong Kong' 'Dominican Republic' 'Bosnia and Herzegovi' 'Turkey'\n",
      " 'Malaysia' 'Belarus' 'Greece' 'Mongolia' 'Nigeria' 'Kyrgyzstan'\n",
      " 'Turkmenistan' 'Algeria' 'Morocco' 'Azerbaijan' 'Lebanon' 'Indonesia'\n",
      " 'China' 'Vietnam' 'Bhutan' 'Cameroon' 'Bulgaria' 'Ghana' 'Ivory Coast'\n",
      " 'Nepal' 'Jordan' 'Benin' 'Republic of the Cong' 'Gabon' 'Laos'\n",
      " 'South Africa' 'Albania' 'Venezuela' 'Cambodia' 'Palestine' 'Senegal'\n",
      " 'Somalia' 'Namibia' 'Niger' 'Burkina Faso' 'Armenia' 'Iran' 'Guinea'\n",
      " 'Georgia' 'Gambia' 'Kenya' 'Mauritania' 'Mozambique' 'Tunisia'\n",
      " 'Bangladesh' 'Iraq' 'DR Congo' 'Mali' 'Sierra Leone' 'Sri Lanka'\n",
      " 'Myanmar' 'Chad' 'Ukraine' 'Ethiopia' 'Uganda' 'Egypt' 'Zambia' 'Togo'\n",
      " 'India' 'Liberia' 'Comoros' 'Madagascar' 'Lesotho' 'Burundi' 'Zimbabwe'\n",
      " 'Haiti' 'Botswana' 'Syria' 'Malawi' 'Yemen' 'Rwanda' 'Tanzania'\n",
      " 'Afghanistan' 'Central African Repu' 'South Sudan']\n"
     ]
    }
   ],
   "source": [
    "print(loaded_data[\"Country\"])"
   ]
  },
  {
   "cell_type": "code",
   "execution_count": 22,
   "metadata": {},
   "outputs": [
    {
     "name": "stdout",
     "output_type": "stream",
     "text": [
      "South Sudan\n"
     ]
    }
   ],
   "source": [
    "print(loaded_data[-1][\"Country\"])"
   ]
  }
 ],
 "metadata": {
  "kernelspec": {
   "display_name": "Python 3",
   "language": "python",
   "name": "python3"
  },
  "language_info": {
   "codemirror_mode": {
    "name": "ipython",
    "version": 3
   },
   "file_extension": ".py",
   "mimetype": "text/x-python",
   "name": "python",
   "nbconvert_exporter": "python",
   "pygments_lexer": "ipython3",
   "version": "3.7.3"
  }
 },
 "nbformat": 4,
 "nbformat_minor": 2
}
