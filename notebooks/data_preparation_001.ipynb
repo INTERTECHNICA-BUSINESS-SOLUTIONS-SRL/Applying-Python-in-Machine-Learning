{
 "cells": [
  {
   "cell_type": "markdown",
   "metadata": {},
   "source": [
    "![*INTERTECHNICA - SOLON EDUCATIONAL PROGRAMS - TECHNOLOGY LINE*](https://solon.intertechnica.com/assets/IntertechnicaSolonEducationalPrograms-TechnologyLine.png)"
   ]
  },
  {
   "cell_type": "markdown",
   "metadata": {},
   "source": [
    "# Python for Data Preparation"
   ]
  },
  {
   "cell_type": "markdown",
   "metadata": {},
   "source": [
    "*This notebook will focus on preparing data using Python*."
   ]
  },
  {
   "cell_type": "markdown",
   "metadata": {},
   "source": [
    "Initializing environment for machine learning use:"
   ]
  },
  {
   "cell_type": "code",
   "execution_count": 1,
   "metadata": {},
   "outputs": [
    {
     "name": "stdout",
     "output_type": "stream",
     "text": [
      "Requirement already satisfied: numpy in /home/marin/anaconda3/lib/python3.7/site-packages (1.16.2)\n",
      "Requirement already satisfied: matplotlib in /home/marin/anaconda3/lib/python3.7/site-packages (3.0.3)\n",
      "Requirement already satisfied: numpy>=1.10.0 in /home/marin/anaconda3/lib/python3.7/site-packages (from matplotlib) (1.16.2)\n",
      "Requirement already satisfied: cycler>=0.10 in /home/marin/anaconda3/lib/python3.7/site-packages (from matplotlib) (0.10.0)\n",
      "Requirement already satisfied: kiwisolver>=1.0.1 in /home/marin/anaconda3/lib/python3.7/site-packages (from matplotlib) (1.0.1)\n",
      "Requirement already satisfied: pyparsing!=2.0.4,!=2.1.2,!=2.1.6,>=2.0.1 in /home/marin/anaconda3/lib/python3.7/site-packages (from matplotlib) (2.3.1)\n",
      "Requirement already satisfied: python-dateutil>=2.1 in /home/marin/anaconda3/lib/python3.7/site-packages (from matplotlib) (2.8.0)\n",
      "Requirement already satisfied: six in /home/marin/anaconda3/lib/python3.7/site-packages (from cycler>=0.10->matplotlib) (1.12.0)\n",
      "Requirement already satisfied: setuptools in /home/marin/anaconda3/lib/python3.7/site-packages (from kiwisolver>=1.0.1->matplotlib) (40.8.0)\n",
      "Requirement already satisfied: sklearn in /home/marin/anaconda3/lib/python3.7/site-packages (0.0)\n",
      "Requirement already satisfied: scikit-learn in /home/marin/anaconda3/lib/python3.7/site-packages (from sklearn) (0.20.3)\n",
      "Requirement already satisfied: numpy>=1.8.2 in /home/marin/anaconda3/lib/python3.7/site-packages (from scikit-learn->sklearn) (1.16.2)\n",
      "Requirement already satisfied: scipy>=0.13.3 in /home/marin/anaconda3/lib/python3.7/site-packages (from scikit-learn->sklearn) (1.2.1)\n"
     ]
    }
   ],
   "source": [
    "!python -m pip install numpy\n",
    "!python -m pip install matplotlib\n",
    "!python -m pip install sklearn"
   ]
  },
  {
   "cell_type": "markdown",
   "metadata": {},
   "source": [
    "## 1 Data Loading & Minimal Processing"
   ]
  },
  {
   "cell_type": "markdown",
   "metadata": {},
   "source": [
    "We will use the **Cleveland Heart Disease Data Set** from University of California Irvine. This dataset is focused on heart disease prediction based on several personal health indicators. "
   ]
  },
  {
   "cell_type": "markdown",
   "metadata": {},
   "source": [
    "We will load the raw data in textual format so we can process it even if there are formatting errors:"
   ]
  },
  {
   "cell_type": "code",
   "execution_count": 2,
   "metadata": {},
   "outputs": [],
   "source": [
    "import numpy as np\n",
    "\n",
    "# import packages for remote data load\n",
    "import requests\n",
    "import io\n",
    "\n",
    "# read data remotely\n",
    "data_url = \"https://raw.githubusercontent.com/INTERTECHNICA-BUSINESS-SOLUTIONS-SRL/Applying-Python-in-Machine-Learning/master/notebooks/data/data_exploration_processed_cleveland_data.csv\"\n",
    "response = requests.get(data_url)\n",
    "\n",
    "raw_data = np.loadtxt(\n",
    "    io.StringIO(response.text),\n",
    "    skiprows = 0, \n",
    "    delimiter = \",\", \n",
    "    dtype = {\n",
    "            \"names\" : (\n",
    "                \"age\", #age in years \n",
    "                \"sex\", #sex (1 = male; 0 = female) \n",
    "                \"cp\", #chest pain type:  1: typical angina, 2: atypical angina, 3: non-anginal pain, 4: asymptomatic   \n",
    "                \"trestbps\", #resting blood pressure (in mm Hg on admission to the hospital) \n",
    "                \"chol\", #serum cholestoral in mg/dl \n",
    "                \"fbs\", #fasting blood sugar > 120 mg/dl (1 = true; 0 = false) \n",
    "                \"restecg\", #resting electrocardiographic results (0: normal, 1: having ST-T wave abnormality,  \n",
    "                           #                        2: showing probable or definite left ventricular hypertrophy)\n",
    "                \"thalach\", #maximum heart rate achieved \n",
    "                \"exang\", #exercise induced angina (1 = yes; 0 = no) \n",
    "                \"oldpeak\", #ST depression induced by exercise relative to rest \n",
    "                \"slope\", #the slope of the peak exercise ST segment (1: upsloping, 2: flat, 3: downsloping)\n",
    "                \"ca\", #number of major vessels (0-3) colored by flourosopy \n",
    "                \"thal\", #3 = normal; 6 = fixed defect; 7 = reversable defect, ? = unknown \n",
    "                \"diagnosis\", #diagnosis of heart disease (angiographic disease status)  \n",
    "                         # 0: no heart disease\n",
    "                         # 1-4: heart disease present\n",
    "                         #target variable   \n",
    "            ),\n",
    "            \"formats\": [\"U20\"] * 14 }\n",
    ")\n",
    "\n",
    "# register metadata information\n",
    "categorical_attribute_names = np.array([\"sex\", \"cp\", \"fbs\", \"restecg\", \"exang\", \"slope\", \"thal\"])\n",
    "numerical_attribute_names = np.array([\"chol\", \"age\", \"trestbps\", \"thalach\", \"oldpeak\", \"ca\"])\n",
    "attribute_names = np.concatenate((categorical_attribute_names, numerical_attribute_names))"
   ]
  },
  {
   "cell_type": "markdown",
   "metadata": {},
   "source": [
    "Let's find the shape of the raw data: "
   ]
  },
  {
   "cell_type": "code",
   "execution_count": 3,
   "metadata": {},
   "outputs": [
    {
     "name": "stdout",
     "output_type": "stream",
     "text": [
      "Raw data has 303 rows and 14 columns.\n"
     ]
    }
   ],
   "source": [
    "print(\"Raw data has {} rows and {} columns.\".format(raw_data.shape[0], len(raw_data.dtype.names)))"
   ]
  },
  {
   "cell_type": "markdown",
   "metadata": {},
   "source": [
    "Let's see also the first 10 records of data:"
   ]
  },
  {
   "cell_type": "code",
   "execution_count": 4,
   "metadata": {},
   "outputs": [
    {
     "name": "stdout",
     "output_type": "stream",
     "text": [
      "[('63.0', '1.0', '1.0', '145.0', '233.0', '1.0', '2.0', '150.0', '0.0', '2.3', '3.0', '0.0', '6.0', '0')\n",
      " ('67.0', '1.0', '4.0', '160.0', '286.0', '0.0', '2.0', '108.0', '1.0', '1.5', '2.0', '3.0', '3.0', '2')\n",
      " ('67.0', '1.0', '4.0', '120.0', '229.0', '0.0', '2.0', '129.0', '1.0', '2.6', '2.0', '2.0', '7.0', '1')\n",
      " ('37.0', '1.0', '3.0', '130.0', '250.0', '0.0', '0.0', '187.0', '0.0', '3.5', '3.0', '0.0', '3.0', '0')\n",
      " ('41.0', '0.0', '2.0', '130.0', '204.0', '0.0', '2.0', '172.0', '0.0', '1.4', '1.0', '0.0', '3.0', '0')\n",
      " ('56.0', '1.0', '2.0', '120.0', '236.0', '0.0', '0.0', '178.0', '0.0', '0.8', '1.0', '0.0', '3.0', '0')\n",
      " ('62.0', '0.0', '4.0', '140.0', '268.0', '0.0', '2.0', '160.0', '0.0', '3.6', '3.0', '2.0', '3.0', '3')\n",
      " ('57.0', '0.0', '4.0', '120.0', '354.0', '0.0', '0.0', '163.0', '1.0', '0.6', '1.0', '0.0', '3.0', '0')\n",
      " ('63.0', '1.0', '4.0', '130.0', '254.0', '0.0', '2.0', '147.0', '0.0', '1.4', '2.0', '1.0', '7.0', '2')\n",
      " ('53.0', '1.0', '4.0', '140.0', '203.0', '1.0', '2.0', '155.0', '1.0', '3.1', '3.0', '0.0', '7.0', '1')]\n"
     ]
    }
   ],
   "source": [
    "print(raw_data[0:10])"
   ]
  },
  {
   "cell_type": "markdown",
   "metadata": {},
   "source": [
    "## 2 Exploring missing data"
   ]
  },
  {
   "cell_type": "markdown",
   "metadata": {},
   "source": [
    "Missing data is a common occurance in Machine Learning. We know that the symbol '?' has been used to encode missing data. Let's find out how many records have missing data:"
   ]
  },
  {
   "cell_type": "code",
   "execution_count": 5,
   "metadata": {},
   "outputs": [
    {
     "name": "stdout",
     "output_type": "stream",
     "text": [
      "Number of missing data records: 6\n"
     ]
    }
   ],
   "source": [
    "# let's drop all records which have at least one field equal to \"?\"\n",
    "valid_data = raw_data.copy()\n",
    "\n",
    "for attribute_name in attribute_names :\n",
    "    valid_data = valid_data[np.where(~(valid_data[attribute_name ] == '?'))] \n",
    "\n",
    "# print number of missing records\n",
    "print(\"Number of missing data records: {}\".format(raw_data.shape[0] - valid_data.shape[0]) )"
   ]
  },
  {
   "cell_type": "markdown",
   "metadata": {},
   "source": [
    "We have only a small number of missing records, so it is acceptable to move forward with dropping missing data."
   ]
  },
  {
   "cell_type": "markdown",
   "metadata": {},
   "source": [
    "## 3 Processing numerical attributes"
   ]
  },
  {
   "cell_type": "markdown",
   "metadata": {},
   "source": [
    "We will select and process the numerical data so that it can handled by the prediction models."
   ]
  },
  {
   "cell_type": "markdown",
   "metadata": {},
   "source": [
    "### 3.1 Data Encoding"
   ]
  },
  {
   "cell_type": "markdown",
   "metadata": {},
   "source": [
    "The first activity that will be done is data encoding. We will encode the raw data into a numerical representation."
   ]
  },
  {
   "cell_type": "code",
   "execution_count": 6,
   "metadata": {},
   "outputs": [],
   "source": [
    "numerical_data = valid_data[numerical_attribute_names]\n",
    "numerical_data_types = np.dtype({\n",
    "                        \"names\" : numerical_data.dtype.names,\n",
    "                        \"formats\" : [float] * len(numerical_data.dtype.names)\n",
    "                    })\n",
    "numerical_data = numerical_data.astype(numerical_data_types) "
   ]
  },
  {
   "cell_type": "markdown",
   "metadata": {},
   "source": [
    "### 3.2 Data Scaling"
   ]
  },
  {
   "cell_type": "markdown",
   "metadata": {},
   "source": [
    "The data needs to be scaled so it has a more appropriate representation across the entire dataset. One method for scaling the data is by using the **RobustScaler** transformer from sklearn."
   ]
  },
  {
   "cell_type": "code",
   "execution_count": 7,
   "metadata": {},
   "outputs": [],
   "source": [
    "from sklearn.preprocessing import RobustScaler\n",
    "\n",
    "scalers = {}\n",
    "scaled_data = np.zeros(numerical_data.shape[0], dtype=numerical_data.dtype)\n",
    "\n",
    "for attribute_name in numerical_attribute_names :\n",
    "    # instantiate and fit a robust scaler\n",
    "    scalers[attribute_name] = RobustScaler()\n",
    "    scalers[attribute_name].fit(numerical_data[attribute_name].reshape((-1,1)))\n",
    "    \n",
    "    # transform the data\n",
    "    transformed_data = scalers[attribute_name].transform(numerical_data[attribute_name].reshape((-1,1)))\n",
    "    \n",
    "    #store the data\n",
    "    scaled_data[attribute_name] = transformed_data.reshape(scaled_data.shape[0])"
   ]
  },
  {
   "cell_type": "markdown",
   "metadata": {},
   "source": [
    "### 3.3 Data Normalization"
   ]
  },
  {
   "cell_type": "markdown",
   "metadata": {},
   "source": [
    "We observed during the data exploration phase that the numerical data is either right or left skewed. Many algorithms work best if the data is normally distributed; some of the best normalization algorithms are the **BoxCox** and **Yeo-Johnson** transformations.  \n",
    "One method for normalizing the data is by using the **PowerTransformer** transformer from sklearn which supports both normalization algorithms."
   ]
  },
  {
   "cell_type": "code",
   "execution_count": 8,
   "metadata": {},
   "outputs": [],
   "source": [
    "from sklearn.preprocessing import PowerTransformer\n",
    "\n",
    "normalizers = {}\n",
    "normalized_data = np.zeros(scaled_data.shape[0], dtype=numerical_data.dtype)\n",
    "\n",
    "for attribute_name in numerical_attribute_names :\n",
    "    # instantiate and fit a robust scaler\n",
    "    # Yeo-Johnson transformation will be used by default\n",
    "    normalizers[attribute_name] = PowerTransformer()\n",
    "    normalizers[attribute_name].fit(scaled_data[attribute_name].reshape((-1,1)))\n",
    "    \n",
    "    # transform the data\n",
    "    transformed_data = normalizers[attribute_name].transform(scaled_data[attribute_name].reshape((-1,1)))\n",
    "    \n",
    "    #store the data\n",
    "    normalized_data[attribute_name] = transformed_data.reshape(scaled_data.shape[0])"
   ]
  },
  {
   "cell_type": "markdown",
   "metadata": {},
   "source": [
    "A good way to remove unnecessary noise from data is to perform a truncation for the decimal values:"
   ]
  },
  {
   "cell_type": "code",
   "execution_count": 9,
   "metadata": {},
   "outputs": [],
   "source": [
    "processed_numerical_data = np.zeros(normalized_data.shape[0], dtype=numerical_data.dtype)\n",
    "for attribute_name in numerical_attribute_names :\n",
    "    processed_numerical_data[attribute_name] = np.trunc(normalized_data[attribute_name] * 1000)/1000"
   ]
  },
  {
   "cell_type": "markdown",
   "metadata": {},
   "source": [
    "Let's see the data for the first 10 records:"
   ]
  },
  {
   "cell_type": "code",
   "execution_count": 10,
   "metadata": {},
   "outputs": [
    {
     "name": "stdout",
     "output_type": "stream",
     "text": [
      "[(-0.173,  0.937,  0.816, -0.103,  1.182, -0.828)\n",
      " ( 0.821,  1.446,  1.481, -1.637,  0.712,  1.576)\n",
      " (-0.261,  1.446, -0.621, -0.937,  1.319,  1.38 )\n",
      " ( 0.178, -1.816,  0.024,  1.926,  1.652, -0.828)\n",
      " (-0.857, -1.439,  0.024,  1.016,  0.638, -0.828)\n",
      " (-0.108,  0.104, -0.621,  1.367,  0.083, -0.828)\n",
      " ( 0.514,  0.814,  0.57 ,  0.37 ,  1.684,  1.38 )\n",
      " ( 1.816,  0.218, -0.621,  0.524, -0.162, -0.828)\n",
      " ( 0.256,  0.937,  0.024, -0.234,  0.638,  0.924)\n",
      " (-0.882, -0.227,  0.57 ,  0.125,  1.517, -0.828)]\n"
     ]
    }
   ],
   "source": [
    "print(processed_numerical_data[0:10])"
   ]
  },
  {
   "cell_type": "markdown",
   "metadata": {},
   "source": [
    "Let's observe if the data got closer to a normal distribution as a result of these transformations:"
   ]
  },
  {
   "cell_type": "code",
   "execution_count": 11,
   "metadata": {},
   "outputs": [
    {
     "data": {
      "image/png": "[encoded data removed]",
      "text/plain": [
       "<Figure size 864x1728 with 6 Axes>"
      ]
     },
     "metadata": {
      "needs_background": "light"
     },
     "output_type": "display_data"
    }
   ],
   "source": [
    "%matplotlib inline\n",
    "import matplotlib.pyplot as plt\n",
    "\n",
    "# prepare the subplot infrastructure \n",
    "count_attributes_ploted = len(numerical_attribute_names)\n",
    "fig, axes = plt.subplots (\n",
    "    count_attributes_ploted, \n",
    "    figsize=(2*count_attributes_ploted, 4*count_attributes_ploted)\n",
    ")\n",
    "index = 0\n",
    "\n",
    "# plot data \n",
    "for var_name in numerical_attribute_names : \n",
    "    # get the variable data\n",
    "    var_data = processed_numerical_data[var_name]\n",
    "\n",
    "    # plot each variable in each own's subplot\n",
    "    axes[index].hist(var_data)\n",
    "    axes[index].title.set_text(\"Histogram of '{}' numerical variable\".format(var_name))\n",
    "    \n",
    "    index = index + 1\n",
    "    \n",
    "plt.show()"
   ]
  },
  {
   "cell_type": "markdown",
   "metadata": {},
   "source": [
    "It seems that the data got closer to a normal distribution, thus being more appropriate for processing."
   ]
  },
  {
   "cell_type": "markdown",
   "metadata": {},
   "source": [
    "## 4 Processing categorical attributes"
   ]
  },
  {
   "cell_type": "markdown",
   "metadata": {},
   "source": [
    "We will select and process the categorical data so that it can handled by the prediction models."
   ]
  },
  {
   "cell_type": "markdown",
   "metadata": {},
   "source": [
    "### 4.1 Selecting categorical data"
   ]
  },
  {
   "cell_type": "markdown",
   "metadata": {},
   "source": [
    "We will select the categorical data based on the known attribute names."
   ]
  },
  {
   "cell_type": "code",
   "execution_count": 12,
   "metadata": {},
   "outputs": [],
   "source": [
    "categorical_data = valid_data[categorical_attribute_names]"
   ]
  },
  {
   "cell_type": "markdown",
   "metadata": {},
   "source": [
    "### 4.1 One Hot Encoding"
   ]
  },
  {
   "cell_type": "markdown",
   "metadata": {},
   "source": [
    "The one-hot encoder will create an array of indexes for each categorical value. The length of the array will be the number of the categories; the values will be 0 except the current category value where it will be 1.  \n",
    "The one hot encoding can be performed with the **OneHotEncoder** transformer from sklearn."
   ]
  },
  {
   "cell_type": "code",
   "execution_count": 13,
   "metadata": {},
   "outputs": [],
   "source": [
    "from sklearn.preprocessing import OneHotEncoder\n",
    "\n",
    "# initialize encoding models\n",
    "one_hot_encoders = {}\n",
    "encoded_data = None\n",
    "category_names = []\n",
    "\n",
    "# encode attribute by attribute\n",
    "for attribute_name in categorical_attribute_names :\n",
    "    \n",
    "    # create and fit encoder \n",
    "    one_hot_encoders[attribute_name] = OneHotEncoder(sparse = False, categories='auto')\n",
    "    one_hot_encoders[attribute_name].fit(categorical_data[attribute_name].reshape((-1,1)))\n",
    "    \n",
    "    # transform data \n",
    "    transformed_data = one_hot_encoders[attribute_name].transform(categorical_data[attribute_name].reshape((-1,1)))\n",
    "    \n",
    "    # re-align data to be consisted with a record-like model\n",
    "    transformed_data = np.split(\n",
    "        transformed_data, \n",
    "        len(one_hot_encoders[attribute_name].categories_[0]),\n",
    "        axis = 1)\n",
    "    \n",
    "    transformed_data = np.array(transformed_data).reshape(len(one_hot_encoders[attribute_name].categories_[0]), -1,)\n",
    "    transformed_data = transformed_data.T\n",
    "    \n",
    "    # obtain and store category names\n",
    "    transformed_category_names = one_hot_encoders[attribute_name].get_feature_names([attribute_name])\n",
    "    category_names = np.append(category_names, transformed_category_names)\n",
    "\n",
    "    # store encoded data as it is generated\n",
    "    if encoded_data is None :\n",
    "        encoded_data = transformed_data\n",
    "    else :\n",
    "        encoded_data = np.concatenate((encoded_data, transformed_data), axis = 1)\n",
    "\n",
    "# set the type of data as having the names of each category and value type int \n",
    "processed_categorical_data_type = np.dtype({\n",
    "    \"names\" : category_names,\n",
    "    \"formats\" : [int] * len(category_names)\n",
    "}) \n",
    "\n",
    "# transform record array into the proper type \n",
    "processed_categorical_data = np.rec.fromrecords(encoded_data.astype(int)).astype(processed_categorical_data_type)"
   ]
  },
  {
   "cell_type": "markdown",
   "metadata": {},
   "source": [
    "Let's observe which are the categories generated by the one-hot encoders:"
   ]
  },
  {
   "cell_type": "code",
   "execution_count": 14,
   "metadata": {},
   "outputs": [
    {
     "name": "stdout",
     "output_type": "stream",
     "text": [
      "Categories generated by the one-hot encoders : \n",
      " ('sex_0.0', 'sex_1.0', 'cp_1.0', 'cp_2.0', 'cp_3.0', 'cp_4.0', 'fbs_0.0', 'fbs_1.0', 'restecg_0.0', 'restecg_1.0', 'restecg_2.0', 'exang_0.0', 'exang_1.0', 'slope_1.0', 'slope_2.0', 'slope_3.0', 'thal_3.0', 'thal_6.0', 'thal_7.0') \n",
      " There are 19 categories\n"
     ]
    }
   ],
   "source": [
    "print(\"Categories generated by the one-hot encoders : \\n {} \\n There are {} categories\".format(\n",
    "    processed_categorical_data.dtype.names, \n",
    "    len(processed_categorical_data.dtype.names))\n",
    ")"
   ]
  },
  {
   "cell_type": "markdown",
   "metadata": {},
   "source": [
    "Let's see the data for the first 10 records:"
   ]
  },
  {
   "cell_type": "code",
   "execution_count": 15,
   "metadata": {},
   "outputs": [
    {
     "name": "stdout",
     "output_type": "stream",
     "text": [
      "[(0, 1, 1, 0, 0, 0, 0, 1, 0, 0, 1, 1, 0, 0, 0, 1, 0, 1, 0)\n",
      " (0, 1, 0, 0, 0, 1, 1, 0, 0, 0, 1, 0, 1, 0, 1, 0, 1, 0, 0)\n",
      " (0, 1, 0, 0, 0, 1, 1, 0, 0, 0, 1, 0, 1, 0, 1, 0, 0, 0, 1)\n",
      " (0, 1, 0, 0, 1, 0, 1, 0, 1, 0, 0, 1, 0, 0, 0, 1, 1, 0, 0)\n",
      " (1, 0, 0, 1, 0, 0, 1, 0, 0, 0, 1, 1, 0, 1, 0, 0, 1, 0, 0)\n",
      " (0, 1, 0, 1, 0, 0, 1, 0, 1, 0, 0, 1, 0, 1, 0, 0, 1, 0, 0)\n",
      " (1, 0, 0, 0, 0, 1, 1, 0, 0, 0, 1, 1, 0, 0, 0, 1, 1, 0, 0)\n",
      " (1, 0, 0, 0, 0, 1, 1, 0, 1, 0, 0, 0, 1, 1, 0, 0, 1, 0, 0)\n",
      " (0, 1, 0, 0, 0, 1, 1, 0, 0, 0, 1, 1, 0, 0, 1, 0, 0, 0, 1)\n",
      " (0, 1, 0, 0, 0, 1, 0, 1, 0, 0, 1, 0, 1, 0, 0, 1, 0, 0, 1)]\n"
     ]
    }
   ],
   "source": [
    "print(processed_categorical_data[0:10])"
   ]
  },
  {
   "cell_type": "markdown",
   "metadata": {},
   "source": [
    "## 5 Processing the target variable "
   ]
  },
  {
   "cell_type": "markdown",
   "metadata": {},
   "source": [
    "Let's process the target variable as well:"
   ]
  },
  {
   "cell_type": "code",
   "execution_count": 16,
   "metadata": {},
   "outputs": [],
   "source": [
    "# get raw target data information\n",
    "target_variable_name = \"diagnosis\" \n",
    "raw_data_target = valid_data[target_variable_name]"
   ]
  },
  {
   "cell_type": "markdown",
   "metadata": {},
   "source": [
    "We will transfom the data so that it will have only 2 classes:"
   ]
  },
  {
   "cell_type": "code",
   "execution_count": 17,
   "metadata": {},
   "outputs": [],
   "source": [
    "#convert target data to int codes    \n",
    "target_data = raw_data_target.astype(int)\n",
    "\n",
    "#force target data to 0 - no heart disease, 1 - heart disease present\n",
    "target_data[target_data > 0] = 1"
   ]
  },
  {
   "cell_type": "markdown",
   "metadata": {},
   "source": [
    "## 5 Putting all together"
   ]
  },
  {
   "cell_type": "markdown",
   "metadata": {},
   "source": [
    "Finally, putting together all the data from both numerical and categorical processed datasets will lead to the final result."
   ]
  },
  {
   "cell_type": "code",
   "execution_count": 18,
   "metadata": {},
   "outputs": [],
   "source": [
    "# we will create raw normalized and encoded data\n",
    "raw_numerical_data = processed_numerical_data.view(float).reshape(-1, len(processed_numerical_data.dtype.names))\n",
    "raw_categorical_data = processed_categorical_data.view(int).reshape(-1, len(processed_categorical_data_type.names))\n",
    "raw_target_data = target_data.view(int).reshape(-1, 1)\n",
    "\n",
    "# concatenating this data will lead to the final result\n",
    "raw_processed_data = np.concatenate((raw_numerical_data, raw_categorical_data, raw_target_data), axis = 1)"
   ]
  },
  {
   "cell_type": "markdown",
   "metadata": {},
   "source": [
    "Let's transform the raw data into a record array:"
   ]
  },
  {
   "cell_type": "code",
   "execution_count": 19,
   "metadata": {},
   "outputs": [],
   "source": [
    "processed_data_type = np.dtype({\n",
    "    \"names\" : np.concatenate((scaled_data.dtype.names, processed_categorical_data_type.names, [target_variable_name])),\n",
    "    \"formats\" : np.concatenate(([float] * len(numerical_data.dtype.names), [int] * len(processed_categorical_data_type.names), [int]))\n",
    "})\n",
    "\n",
    "processed_data = np.rec.fromrecords(raw_processed_data).astype(processed_data_type)"
   ]
  },
  {
   "cell_type": "markdown",
   "metadata": {},
   "source": [
    "Let's see the first 10 records of processed data:"
   ]
  },
  {
   "cell_type": "code",
   "execution_count": 20,
   "metadata": {},
   "outputs": [
    {
     "name": "stdout",
     "output_type": "stream",
     "text": [
      "[(-0.173,  0.937,  0.816, -0.103,  1.182, -0.828, 0, 1, 1, 0, 0, 0, 0, 1, 0, 0, 1, 1, 0, 0, 0, 1, 0, 1, 0, 0)\n",
      " ( 0.821,  1.446,  1.481, -1.637,  0.712,  1.576, 0, 1, 0, 0, 0, 1, 1, 0, 0, 0, 1, 0, 1, 0, 1, 0, 1, 0, 0, 1)\n",
      " (-0.261,  1.446, -0.621, -0.937,  1.319,  1.38 , 0, 1, 0, 0, 0, 1, 1, 0, 0, 0, 1, 0, 1, 0, 1, 0, 0, 0, 1, 1)\n",
      " ( 0.178, -1.816,  0.024,  1.926,  1.652, -0.828, 0, 1, 0, 0, 1, 0, 1, 0, 1, 0, 0, 1, 0, 0, 0, 1, 1, 0, 0, 0)\n",
      " (-0.857, -1.439,  0.024,  1.016,  0.638, -0.828, 1, 0, 0, 1, 0, 0, 1, 0, 0, 0, 1, 1, 0, 1, 0, 0, 1, 0, 0, 0)\n",
      " (-0.108,  0.104, -0.621,  1.367,  0.083, -0.828, 0, 1, 0, 1, 0, 0, 1, 0, 1, 0, 0, 1, 0, 1, 0, 0, 1, 0, 0, 0)\n",
      " ( 0.514,  0.814,  0.57 ,  0.37 ,  1.684,  1.38 , 1, 0, 0, 0, 0, 1, 1, 0, 0, 0, 1, 1, 0, 0, 0, 1, 1, 0, 0, 1)\n",
      " ( 1.816,  0.218, -0.621,  0.524, -0.162, -0.828, 1, 0, 0, 0, 0, 1, 1, 0, 1, 0, 0, 0, 1, 1, 0, 0, 1, 0, 0, 0)\n",
      " ( 0.256,  0.937,  0.024, -0.234,  0.638,  0.924, 0, 1, 0, 0, 0, 1, 1, 0, 0, 0, 1, 1, 0, 0, 1, 0, 0, 0, 1, 1)\n",
      " (-0.882, -0.227,  0.57 ,  0.125,  1.517, -0.828, 0, 1, 0, 0, 0, 1, 0, 1, 0, 0, 1, 0, 1, 0, 0, 1, 0, 0, 1, 1)]\n"
     ]
    }
   ],
   "source": [
    "print(processed_data[0:10])"
   ]
  },
  {
   "cell_type": "markdown",
   "metadata": {},
   "source": [
    "The data can be saved in a CSV file for further processing using numpy's **savetxt** function:"
   ]
  },
  {
   "cell_type": "code",
   "execution_count": 21,
   "metadata": {},
   "outputs": [],
   "source": [
    "np.savetxt(\n",
    "    \"./data_processing_processed_cleveland_data.csv\", \n",
    "    processed_data,\n",
    "    header = \",\".join(processed_data_type.names),\n",
    "    delimiter = ',', \n",
    "    fmt = \"%.3f\"\n",
    ")"
   ]
  }
 ],
 "metadata": {
  "kernelspec": {
   "display_name": "Python 3",
   "language": "python",
   "name": "python3"
  },
  "language_info": {
   "codemirror_mode": {
    "name": "ipython",
    "version": 3
   },
   "file_extension": ".py",
   "mimetype": "text/x-python",
   "name": "python",
   "nbconvert_exporter": "python",
   "pygments_lexer": "ipython3",
   "version": "3.7.3"
  }
 },
 "nbformat": 4,
 "nbformat_minor": 2
}
