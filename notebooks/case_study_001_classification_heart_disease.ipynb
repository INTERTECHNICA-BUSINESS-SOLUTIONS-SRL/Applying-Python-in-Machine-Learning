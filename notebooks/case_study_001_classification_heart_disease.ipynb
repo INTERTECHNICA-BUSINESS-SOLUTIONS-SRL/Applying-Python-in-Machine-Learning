{
 "cells": [
  {
   "cell_type": "markdown",
   "metadata": {},
   "source": [
    "![*INTERTECHNICA - SOLON EDUCATIONAL PROGRAMS - TECHNOLOGY LINE*](https://solon.intertechnica.com/assets/IntertechnicaSolonEducationalPrograms-TechnologyLine.png)"
   ]
  },
  {
   "cell_type": "markdown",
   "metadata": {},
   "source": [
    "# Classification Case Study: Heart Disease"
   ]
  },
  {
   "cell_type": "markdown",
   "metadata": {},
   "source": [
    "*This notebook will focus on presenting the machine learning modelling for a classification problem*."
   ]
  },
  {
   "cell_type": "markdown",
   "metadata": {},
   "source": [
    "Initializing environment for machine learning use:"
   ]
  },
  {
   "cell_type": "code",
   "execution_count": 1,
   "metadata": {},
   "outputs": [
    {
     "name": "stdout",
     "output_type": "stream",
     "text": [
      "Requirement already satisfied: numpy in /home/marin/anaconda3/lib/python3.7/site-packages (1.16.2)\n",
      "Requirement already satisfied: matplotlib in /home/marin/anaconda3/lib/python3.7/site-packages (3.0.3)\n",
      "Requirement already satisfied: numpy>=1.10.0 in /home/marin/anaconda3/lib/python3.7/site-packages (from matplotlib) (1.16.2)\n",
      "Requirement already satisfied: cycler>=0.10 in /home/marin/anaconda3/lib/python3.7/site-packages (from matplotlib) (0.10.0)\n",
      "Requirement already satisfied: kiwisolver>=1.0.1 in /home/marin/anaconda3/lib/python3.7/site-packages (from matplotlib) (1.0.1)\n",
      "Requirement already satisfied: pyparsing!=2.0.4,!=2.1.2,!=2.1.6,>=2.0.1 in /home/marin/anaconda3/lib/python3.7/site-packages (from matplotlib) (2.3.1)\n",
      "Requirement already satisfied: python-dateutil>=2.1 in /home/marin/anaconda3/lib/python3.7/site-packages (from matplotlib) (2.8.0)\n",
      "Requirement already satisfied: six in /home/marin/anaconda3/lib/python3.7/site-packages (from cycler>=0.10->matplotlib) (1.12.0)\n",
      "Requirement already satisfied: setuptools in /home/marin/anaconda3/lib/python3.7/site-packages (from kiwisolver>=1.0.1->matplotlib) (40.8.0)\n",
      "Requirement already satisfied: sklearn in /home/marin/anaconda3/lib/python3.7/site-packages (0.0)\n",
      "Requirement already satisfied: scikit-learn in /home/marin/anaconda3/lib/python3.7/site-packages (from sklearn) (0.20.3)\n",
      "Requirement already satisfied: numpy>=1.8.2 in /home/marin/anaconda3/lib/python3.7/site-packages (from scikit-learn->sklearn) (1.16.2)\n",
      "Requirement already satisfied: scipy>=0.13.3 in /home/marin/anaconda3/lib/python3.7/site-packages (from scikit-learn->sklearn) (1.2.1)\n"
     ]
    }
   ],
   "source": [
    "!python -m pip install numpy\n",
    "!python -m pip install matplotlib\n",
    "!python -m pip install sklearn"
   ]
  },
  {
   "cell_type": "markdown",
   "metadata": {},
   "source": [
    "Ensure cleaner message reporting:"
   ]
  },
  {
   "cell_type": "code",
   "execution_count": 2,
   "metadata": {},
   "outputs": [],
   "source": [
    "import warnings\n",
    "\n",
    "# remove warnings for now\n",
    "import warnings\n",
    "warnings.filterwarnings(\"ignore\")\n",
    "warnings.filterwarnings(action=\"ignore\", category=DeprecationWarning)\n",
    "warnings.filterwarnings(action=\"ignore\", category=FutureWarning)"
   ]
  },
  {
   "cell_type": "markdown",
   "metadata": {},
   "source": [
    "Ensure repeatable results:"
   ]
  },
  {
   "cell_type": "code",
   "execution_count": 3,
   "metadata": {},
   "outputs": [],
   "source": [
    "# minimize randomness for repeatable results \n",
    "random_state = 10"
   ]
  },
  {
   "cell_type": "markdown",
   "metadata": {},
   "source": [
    "## 1 Data Loading & Minimal Processing"
   ]
  },
  {
   "cell_type": "markdown",
   "metadata": {},
   "source": [
    "The data exploration and preprocessing have been done in the previous sections. We will reuse these artifacts.   \n",
    "We will load the processed data so that it is ready for the processing:"
   ]
  },
  {
   "cell_type": "code",
   "execution_count": 4,
   "metadata": {},
   "outputs": [],
   "source": [
    "import numpy as np\n",
    "\n",
    "field_names = [\"chol\", \"age\", \"trestbps\", \"thalach\", \"oldpeak\", \"ca\", \"sex_0.0\", \n",
    "               \"sex_1.0\", \"cp_1.0\", \"cp_2.0\", \"cp_3.0\", \"cp_4.0\", \"fbs_0.0\", \n",
    "               \"fbs_1.0\", \"restecg_0.0\", \"restecg_1.0\", \"restecg_2.0\", \n",
    "               \"exang_0.0\", \"exang_1.0\", \"slope_1.0\", \"slope_2.0\", \"slope_3.0\", \n",
    "               \"thal_3.0\", \"thal_6.0\", \"thal_7.0\", \"diagnosis\"]\n",
    "\n",
    "# import packages for remote data load\n",
    "import requests\n",
    "import io\n",
    "\n",
    "# read data remotely\n",
    "data_url = \"https://raw.githubusercontent.com/INTERTECHNICA-BUSINESS-SOLUTIONS-SRL/Applying-Python-in-Machine-Learning/master/notebooks/data/data_processing_processed_cleveland_data.csv\"\n",
    "response = requests.get(data_url)\n",
    "\n",
    "processed_data = np.loadtxt (\n",
    "    io.StringIO(response.text), \n",
    "    skiprows = 0, \n",
    "    delimiter = \",\", \n",
    "    dtype = {\n",
    "        \"names\" : field_names,\n",
    "        \"formats\": [float] * len(field_names) \n",
    "    }\n",
    ")\n"
   ]
  },
  {
   "cell_type": "markdown",
   "metadata": {},
   "source": [
    "Let's print the first 10 records:"
   ]
  },
  {
   "cell_type": "code",
   "execution_count": 5,
   "metadata": {},
   "outputs": [
    {
     "name": "stdout",
     "output_type": "stream",
     "text": [
      "[(-0.173,  0.937,  0.816, -0.103,  1.182, -0.828, 0., 1., 1., 0., 0., 0., 0., 1., 0., 0., 1., 1., 0., 0., 0., 1., 0., 1., 0., 0.)\n",
      " ( 0.821,  1.446,  1.481, -1.637,  0.712,  1.576, 0., 1., 0., 0., 0., 1., 1., 0., 0., 0., 1., 0., 1., 0., 1., 0., 1., 0., 0., 1.)\n",
      " (-0.261,  1.446, -0.621, -0.937,  1.319,  1.38 , 0., 1., 0., 0., 0., 1., 1., 0., 0., 0., 1., 0., 1., 0., 1., 0., 0., 0., 1., 1.)\n",
      " ( 0.178, -1.816,  0.024,  1.926,  1.652, -0.828, 0., 1., 0., 0., 1., 0., 1., 0., 1., 0., 0., 1., 0., 0., 0., 1., 1., 0., 0., 0.)\n",
      " (-0.857, -1.439,  0.024,  1.016,  0.638, -0.828, 1., 0., 0., 1., 0., 0., 1., 0., 0., 0., 1., 1., 0., 1., 0., 0., 1., 0., 0., 0.)\n",
      " (-0.108,  0.104, -0.621,  1.367,  0.083, -0.828, 0., 1., 0., 1., 0., 0., 1., 0., 1., 0., 0., 1., 0., 1., 0., 0., 1., 0., 0., 0.)\n",
      " ( 0.514,  0.814,  0.57 ,  0.37 ,  1.684,  1.38 , 1., 0., 0., 0., 0., 1., 1., 0., 0., 0., 1., 1., 0., 0., 0., 1., 1., 0., 0., 1.)\n",
      " ( 1.816,  0.218, -0.621,  0.524, -0.162, -0.828, 1., 0., 0., 0., 0., 1., 1., 0., 1., 0., 0., 0., 1., 1., 0., 0., 1., 0., 0., 0.)\n",
      " ( 0.256,  0.937,  0.024, -0.234,  0.638,  0.924, 0., 1., 0., 0., 0., 1., 1., 0., 0., 0., 1., 1., 0., 0., 1., 0., 0., 0., 1., 1.)\n",
      " (-0.882, -0.227,  0.57 ,  0.125,  1.517, -0.828, 0., 1., 0., 0., 0., 1., 0., 1., 0., 0., 1., 0., 1., 0., 0., 1., 0., 0., 1., 1.)]\n"
     ]
    }
   ],
   "source": [
    "print(processed_data[0:10])"
   ]
  },
  {
   "cell_type": "markdown",
   "metadata": {},
   "source": [
    "Let's separate the predictor variables and the target variable: "
   ]
  },
  {
   "cell_type": "code",
   "execution_count": 6,
   "metadata": {},
   "outputs": [],
   "source": [
    "# get correct variable names\n",
    "attribute_variable_names = field_names[:-1]\n",
    "target_variable_name = field_names[-1]\n",
    "\n",
    "# get attribute and target records\n",
    "attributes_records = processed_data[attribute_variable_names]\n",
    "target_records = processed_data[target_variable_name]\n",
    "\n",
    "# get attributes and target records as simple array\n",
    "attributes = attributes_records.view(float).reshape((attributes_records.shape[0], -1))[:, 0:-1]\n",
    "target = target_records.view(float).reshape((target_records.shape[0], ))"
   ]
  },
  {
   "cell_type": "markdown",
   "metadata": {},
   "source": [
    "## 2 Splitting the training and testing data sets"
   ]
  },
  {
   "cell_type": "markdown",
   "metadata": {},
   "source": [
    "One of the first step in machine learning modelling is to split the data into two datasets: **one for training** and **one for testing**.  \n",
    "The training data set will be used to train the model and the testing dataset will be used for validating the capabilities of the trained model.  \n",
    "This is done via the **train_test_split** function from sklearn:"
   ]
  },
  {
   "cell_type": "code",
   "execution_count": 7,
   "metadata": {},
   "outputs": [],
   "source": [
    "from sklearn.model_selection import train_test_split\n",
    "\n",
    "# split the attribute and target dataset properly\n",
    "x_train, x_test, y_train, y_test = train_test_split(attributes, target, random_state = random_state)"
   ]
  },
  {
   "cell_type": "markdown",
   "metadata": {},
   "source": [
    "Instead of using simple splitting we will use the **cross validation** techniques.  \n",
    "The training set will be used for the purpose of training (as intended), however the the test dataset will be used as a hold-out dataset for final validation.  "
   ]
  },
  {
   "cell_type": "markdown",
   "metadata": {},
   "source": [
    "## 3 Selecting a classifier algorithm"
   ]
  },
  {
   "cell_type": "markdown",
   "metadata": {},
   "source": [
    "The next step is selecting a classification algorithm. In sklearn there is a large palette of classifiers, so it is important to select the best one for the current problem:"
   ]
  },
  {
   "cell_type": "code",
   "execution_count": 8,
   "metadata": {},
   "outputs": [],
   "source": [
    "# import several classifiers\n",
    "from sklearn.svm import SVC\n",
    "from sklearn.linear_model import LogisticRegression\n",
    "from sklearn.ensemble import RandomForestClassifier, AdaBoostClassifier, BaggingClassifier\n",
    "\n",
    "# instantiate the array of classifiers\n",
    "classifiers = [\n",
    "    LogisticRegression(random_state = random_state),\n",
    "    SVC(random_state = random_state),\n",
    "    RandomForestClassifier(random_state = random_state),\n",
    "    AdaBoostClassifier(random_state = random_state),\n",
    "    BaggingClassifier(random_state = random_state)    \n",
    "]\n"
   ]
  },
  {
   "cell_type": "markdown",
   "metadata": {},
   "source": [
    "The fastest way would be to train and evaluate the model on the data split we performed in the previous section. However we may have a split that is not representative.  \n",
    "Ideally, we should repeat the splitting several times and train/evaluate again the model to make sure we get representative information. This is a process called cross validation.  \n",
    "The sklearn library implements this **via cross_val_score** function: "
   ]
  },
  {
   "cell_type": "code",
   "execution_count": 9,
   "metadata": {},
   "outputs": [],
   "source": [
    "from sklearn.model_selection import cross_val_score, cross_validate\n",
    "\n",
    "# cross validate each classifiers on 5 folds \n",
    "#(rule of thumb: 5 or 10 folds are good intial choices depending on the data size)\n",
    "count_folds = 5\n",
    "mean_accuracy = [0] * len(classifiers)\n",
    "std_accuracy = [0] * len(classifiers)\n",
    "for i in range(len(classifiers)) :\n",
    "    # obtain the train-test\n",
    "    scores = cross_val_score(classifiers[i], x_train, y_train, scoring = 'accuracy', cv = count_folds)\n",
    "    mean_accuracy [i] = np.mean(scores)\n",
    "    std_accuracy [i] = np.std(scores)    "
   ]
  },
  {
   "cell_type": "markdown",
   "metadata": {},
   "source": [
    "Let's view the statistics of the cross validation:"
   ]
  },
  {
   "cell_type": "code",
   "execution_count": 10,
   "metadata": {},
   "outputs": [
    {
     "name": "stdout",
     "output_type": "stream",
     "text": [
      "LogisticRegression : accuracy mean 0.825 and accuracy std 0.065\n",
      "SVC : accuracy mean 0.838 and accuracy std 0.031\n",
      "RandomForestClassifier : accuracy mean 0.793 and accuracy std 0.045\n",
      "AdaBoostClassifier : accuracy mean 0.801 and accuracy std 0.030\n",
      "BaggingClassifier : accuracy mean 0.820 and accuracy std 0.051\n"
     ]
    }
   ],
   "source": [
    "# let's print the cross validation result\n",
    "for i in range(len(classifiers)) :\n",
    "    print (\"{} : accuracy mean {:.3f} and accuracy std {:.3f}\".format(\n",
    "        type(classifiers [i]).__name__,\n",
    "        mean_accuracy [i],\n",
    "        std_accuracy [i]\n",
    "    ))"
   ]
  },
  {
   "cell_type": "markdown",
   "metadata": {},
   "source": [
    "Based on the cross validation statistics we will select the best predictor:"
   ]
  },
  {
   "cell_type": "code",
   "execution_count": 11,
   "metadata": {},
   "outputs": [
    {
     "name": "stdout",
     "output_type": "stream",
     "text": [
      "Selected classifier: SVC\n"
     ]
    }
   ],
   "source": [
    "# let's select the best predictor\n",
    "classifier_index = np.argsort(mean_accuracy)[-1]\n",
    "classifier = classifiers[classifier_index]\n",
    "\n",
    "print (\"Selected classifier: {}\".format(\n",
    "        type(classifier).__name__    \n",
    "))"
   ]
  },
  {
   "cell_type": "markdown",
   "metadata": {},
   "source": [
    "## 4 Fine tunning the classifier"
   ]
  },
  {
   "cell_type": "markdown",
   "metadata": {},
   "source": [
    "Once the best classifier has been determine, we need to find the best combination of hyperparameters.  \n",
    "First of all let's create the hyperparameter search space:"
   ]
  },
  {
   "cell_type": "code",
   "execution_count": 12,
   "metadata": {},
   "outputs": [],
   "source": [
    "# create hyperparameter search space for various algorithms\n",
    "parameters = {\n",
    "    \"LogisticRegression\" : {\n",
    "        \"C\" : np.logspace(-3,3,7), \n",
    "        \"penalty\" : [\"l1\",\"l2\"]\n",
    "    },\n",
    "    \"SVC\" : {\n",
    "        \"C\": [1, 5, 10], \n",
    "        \"kernel\" : (\"linear\", \"rbf\"), \n",
    "        \"gamma\" : [\"auto\", \"scale\"],\n",
    "        \"class_weight\" : [\"balanced\", None]\n",
    "    },\n",
    "    \"RandomForestClassifier\" : {\n",
    "        \"n_estimators\" : np.linspace(500, 1000, 3).astype(int)\n",
    "    },\n",
    "    \"AdaBoostClassifier\" : {\n",
    "        \"n_estimators\" : np.linspace(500, 1000, 3).astype(int)\n",
    "    },\n",
    "    \"BaggingClassifier\" : {\n",
    "        \"n_estimators\" : np.linspace(500, 1000, 3).astype(int)\n",
    "    }\n",
    "}"
   ]
  },
  {
   "cell_type": "markdown",
   "metadata": {},
   "source": [
    "Based on the parameters search space we will determine the best classifier:"
   ]
  },
  {
   "cell_type": "code",
   "execution_count": 13,
   "metadata": {},
   "outputs": [],
   "source": [
    "from sklearn.model_selection import GridSearchCV\n",
    "\n",
    "# search for best hyperparameters for selected classifiers\n",
    "best_classifier = GridSearchCV(classifier, parameters[type(classifier).__name__], refit = True, iid = False)\n",
    "best_classifier.fit(x_train, y_train)\n",
    "prediction = best_classifier.predict(x_test)"
   ]
  },
  {
   "cell_type": "markdown",
   "metadata": {},
   "source": [
    "Let's see what is the best combination of hyperparameters:"
   ]
  },
  {
   "cell_type": "code",
   "execution_count": 14,
   "metadata": {},
   "outputs": [
    {
     "name": "stdout",
     "output_type": "stream",
     "text": [
      "Classifier's best parameters are: {'C': 1, 'class_weight': None, 'gamma': 'scale', 'kernel': 'rbf'}\n"
     ]
    }
   ],
   "source": [
    "print(\"Classifier's best parameters are: {}\".format(best_classifier.best_params_))"
   ]
  },
  {
   "cell_type": "markdown",
   "metadata": {},
   "source": [
    "The general model performance characteristic for the classifier are as follows:"
   ]
  },
  {
   "cell_type": "code",
   "execution_count": 15,
   "metadata": {},
   "outputs": [
    {
     "name": "stdout",
     "output_type": "stream",
     "text": [
      "Accuracy score: 0.87\n",
      "Recall score: 0.86\n"
     ]
    }
   ],
   "source": [
    "from sklearn.metrics import accuracy_score, recall_score\n",
    "\n",
    "# print basic model score\n",
    "print(\"Accuracy score: {:.2f}\".format(accuracy_score(y_test, prediction)))\n",
    "print(\"Recall score: {:.2f}\".format(recall_score(y_test, prediction)))"
   ]
  },
  {
   "cell_type": "markdown",
   "metadata": {},
   "source": [
    "Using basic performance measurements the model seems to perform very good (close to 90% accuracy and recall)."
   ]
  },
  {
   "cell_type": "markdown",
   "metadata": {},
   "source": [
    "Let's replace index label with text labels for further processing:"
   ]
  },
  {
   "cell_type": "code",
   "execution_count": 16,
   "metadata": {},
   "outputs": [],
   "source": [
    "# setting labels and label the data\n",
    "\n",
    "labels = [\"Disease Present\", \"No Disease\"]\n",
    "y_test_labeled = [labels[int(i)] for i in y_test]\n",
    "prediction_labeled = [labels[int(i)] for i in prediction]"
   ]
  },
  {
   "cell_type": "markdown",
   "metadata": {},
   "source": [
    "The general classification report is as follows:"
   ]
  },
  {
   "cell_type": "code",
   "execution_count": 17,
   "metadata": {},
   "outputs": [
    {
     "name": "stdout",
     "output_type": "stream",
     "text": [
      "                 precision    recall  f1-score   support\n",
      "\n",
      "Disease Present       0.91      0.87      0.89        47\n",
      "     No Disease       0.80      0.86      0.83        28\n",
      "\n",
      "      micro avg       0.87      0.87      0.87        75\n",
      "      macro avg       0.86      0.86      0.86        75\n",
      "   weighted avg       0.87      0.87      0.87        75\n",
      "\n"
     ]
    }
   ],
   "source": [
    "from sklearn.metrics import classification_report\n",
    "\n",
    "# printing classification report\n",
    "print(classification_report(y_test_labeled, prediction_labeled))"
   ]
  },
  {
   "cell_type": "markdown",
   "metadata": {},
   "source": [
    "We can observe that the model is more precise in case of the **Disease Present** condition compared to **No Disease**. This is actually a good thing since predicting a patient healty patient with heart disease (False Positive) is better missclasifying a patient with heart disease as healthy (False Negative).  "
   ]
  },
  {
   "cell_type": "markdown",
   "metadata": {},
   "source": [
    "Let's see the confusion matrix to see how the True/False Positives/Negatives are predicted by the model."
   ]
  },
  {
   "cell_type": "code",
   "execution_count": 18,
   "metadata": {},
   "outputs": [
    {
     "data": {
      "image/png": "[encoded data removed]",
      "text/plain": [
       "<Figure size 432x288 with 1 Axes>"
      ]
     },
     "metadata": {
      "needs_background": "light"
     },
     "output_type": "display_data"
    }
   ],
   "source": [
    "%matplotlib inline\n",
    "\n",
    "from sklearn.metrics import confusion_matrix\n",
    "import matplotlib.pyplot as plt\n",
    "import itertools\n",
    "\n",
    "# calculate confusion matrix\n",
    "c_matrix = confusion_matrix(y_test_labeled, prediction_labeled)\n",
    "\n",
    "# show confusion matrix data intensity\n",
    "plt.imshow(c_matrix, interpolation='nearest', cmap = plt.cm.Blues)\n",
    "\n",
    "# show labels\n",
    "tick_marks = np.arange(len(labels))\n",
    "plt.xticks(tick_marks, np.core.defchararray.add([\"Predicted \\n\"] * len(labels),  labels))\n",
    "plt.yticks(tick_marks, np.core.defchararray.add([\"True \\n\"] * len(labels),  labels))\n",
    "\n",
    "# show classification data\n",
    "for i, j in itertools.product(range(c_matrix.shape[0]), range(c_matrix.shape[1])):\n",
    "    plt.text(j, i, format(c_matrix[i, j], 'd'),\n",
    "             horizontalalignment=\"center\",\n",
    "             color=\"white\" if c_matrix[i, j] > (c_matrix.max() / 2.) else \"black\")\n",
    "\n",
    "plt.show()"
   ]
  },
  {
   "cell_type": "markdown",
   "metadata": {},
   "source": [
    "Based on the confusion matrix the model is very good at predicting the heart disease condition and good at predicting a healthy patient. "
   ]
  },
  {
   "cell_type": "markdown",
   "metadata": {},
   "source": [
    "Finally, let's see the model resilience in predicting the **Disease Present** condition via a ROC-AUC curve:"
   ]
  },
  {
   "cell_type": "code",
   "execution_count": 19,
   "metadata": {},
   "outputs": [
    {
     "data": {
      "image/png": "[encoded data removed]",
      "text/plain": [
       "<Figure size 432x288 with 1 Axes>"
      ]
     },
     "metadata": {
      "needs_background": "light"
     },
     "output_type": "display_data"
    }
   ],
   "source": [
    "from sklearn.calibration import CalibratedClassifierCV\n",
    "from sklearn.metrics import roc_curve, roc_auc_score\n",
    "\n",
    "# we will use a calibrated classifier on top of the best classifier\n",
    "# and we will retrain it in order to \n",
    "calibrated_classifier = CalibratedClassifierCV(best_classifier)\n",
    "calibrated_classifier.fit(x_train, y_train)\n",
    "\n",
    "prediction_probabilities = calibrated_classifier.predict_proba(x_test)\n",
    "disease_present_prediction_probabilities = prediction_probabilities[:,1]\n",
    "\n",
    "false_positive_rate, true_positive_rate, _ = roc_curve(y_test,  disease_present_prediction_probabilities)\n",
    "auc = roc_auc_score(y_test, disease_present_prediction_probabilities)\n",
    "plt.plot(false_positive_rate , true_positive_rate, label=\"Disease Present , auc = \" + str(auc))\n",
    "\n",
    "plt.xlabel(\"False Positive Rate\")\n",
    "plt.ylabel(\"True Positive Rate\")\n",
    "\n",
    "\n",
    "plt.legend(loc=4)\n",
    "plt.show()"
   ]
  },
  {
   "cell_type": "markdown",
   "metadata": {},
   "source": [
    "The **True Positive Rate** is expressed as True Positives / (True Positives + False Negatives). The **False Positive Rate** is expressed as False Positives / (False Positives + True Negatives).\n",
    "The higher the area under the ROC Curve, the more resilient is the model in regards with lowering the probability threshold between **No Disease** and **Disease Present** cases."
   ]
  },
  {
   "cell_type": "markdown",
   "metadata": {},
   "source": [
    "According to the ROC-AUC analysis the model is very resilient in predicting the **Disease Present** condition. The rate of False Positives does not increase fast once the probability threshold goes down.\n",
    "\n",
    "Overall this is a good model and definitely meeting the business challenge."
   ]
  }
 ],
 "metadata": {
  "kernelspec": {
   "display_name": "Python 3",
   "language": "python",
   "name": "python3"
  },
  "language_info": {
   "codemirror_mode": {
    "name": "ipython",
    "version": 3
   },
   "file_extension": ".py",
   "mimetype": "text/x-python",
   "name": "python",
   "nbconvert_exporter": "python",
   "pygments_lexer": "ipython3",
   "version": "3.7.3"
  }
 },
 "nbformat": 4,
 "nbformat_minor": 2
}
